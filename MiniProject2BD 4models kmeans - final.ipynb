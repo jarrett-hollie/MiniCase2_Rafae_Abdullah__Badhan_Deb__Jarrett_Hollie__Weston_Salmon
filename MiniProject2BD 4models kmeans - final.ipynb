{
 "cells": [
  {
   "cell_type": "code",
   "execution_count": 2,
   "id": "33155f69",
   "metadata": {},
   "outputs": [
    {
     "name": "stdout",
     "output_type": "stream",
     "text": [
      "username: rafae\n",
      "Today's date: 2022-11-16\n"
     ]
    }
   ],
   "source": [
    "import os\n",
    " \n",
    "print(\"username:\" , os.getlogin())\n",
    "from datetime import date\n",
    "\n",
    "today = date.today()\n",
    "print(\"Today's date:\", today)"
   ]
  },
  {
   "cell_type": "code",
   "execution_count": 3,
   "id": "74d610c3",
   "metadata": {},
   "outputs": [],
   "source": [
    "import findspark\n",
    "findspark.init()"
   ]
  },
  {
   "cell_type": "code",
   "execution_count": 4,
   "id": "c961db29",
   "metadata": {},
   "outputs": [],
   "source": [
    "from pyspark.sql import SparkSession\n",
    "from pyspark.conf import SparkConf\n",
    "from pyspark.sql.types import * \n",
    "import pyspark.sql.functions as F\n",
    "from pyspark.sql.functions import col, asc,desc\n",
    "import matplotlib.pyplot as plt\n",
    "import numpy as np\n",
    "import seaborn as sns\n",
    "from pyspark.sql import SQLContext\n",
    "from pyspark.mllib.stat import Statistics\n",
    "import pandas as pd\n",
    "from pyspark.sql.functions import udf\n",
    "from pyspark.ml.feature import OneHotEncoder, StringIndexer, VectorAssembler,StandardScaler\n",
    "from pyspark.ml import Pipeline\n",
    "from sklearn.metrics import confusion_matrix\n",
    "\n",
    "spark=SparkSession.builder \\\n",
    ".master (\"local[*]\")\\\n",
    ".appName(\"part3\")\\\n",
    ".getOrCreate()"
   ]
  },
  {
   "cell_type": "code",
   "execution_count": 5,
   "id": "c5404d00",
   "metadata": {},
   "outputs": [
    {
     "name": "stderr",
     "output_type": "stream",
     "text": [
      "c:\\Users\\rafae\\AppData\\Local\\Programs\\Python\\Python310\\lib\\site-packages\\pyspark\\sql\\context.py:112: FutureWarning: Deprecated in 3.0.0. Use SparkSession.builder.getOrCreate() instead.\n",
      "  warnings.warn(\n"
     ]
    }
   ],
   "source": [
    "sc=spark.sparkContext\n",
    "sqlContext=SQLContext(sc)"
   ]
  },
  {
   "cell_type": "code",
   "execution_count": 6,
   "id": "0954133a",
   "metadata": {},
   "outputs": [
    {
     "data": {
      "text/plain": [
       "'e:\\\\Coursera or ONLINE\\\\MS BAnDS\\\\3rd Sem\\\\BAN 5753 Advanced Analytics\\\\Week 12'"
      ]
     },
     "execution_count": 6,
     "metadata": {},
     "output_type": "execute_result"
    }
   ],
   "source": [
    "import os\n",
    "os.getcwd()"
   ]
  },
  {
   "cell_type": "code",
   "execution_count": 7,
   "id": "883b5428",
   "metadata": {},
   "outputs": [
    {
     "name": "stdout",
     "output_type": "stream",
     "text": [
      "3.10.1\n"
     ]
    }
   ],
   "source": [
    "from platform import python_version\n",
    "\n",
    "print(python_version())"
   ]
  },
  {
   "cell_type": "code",
   "execution_count": 8,
   "id": "8b231d8e",
   "metadata": {},
   "outputs": [
    {
     "data": {
      "text/plain": [
       "'3.3.0'"
      ]
     },
     "execution_count": 8,
     "metadata": {},
     "output_type": "execute_result"
    }
   ],
   "source": [
    "sc.version #spark version"
   ]
  },
  {
   "cell_type": "markdown",
   "id": "7006ebdd",
   "metadata": {},
   "source": [
    "### Read Data"
   ]
  },
  {
   "cell_type": "code",
   "execution_count": 9,
   "id": "e4f680b5",
   "metadata": {},
   "outputs": [
    {
     "name": "stdout",
     "output_type": "stream",
     "text": [
      "There are 41188 rows 21 columns in the data.\n"
     ]
    }
   ],
   "source": [
    "df=spark.read \\\n",
    " .option(\"header\",\"True\")\\\n",
    " .option(\"inferSchema\",\"True\")\\\n",
    " .option(\"sep\",\";\")\\\n",
    " .csv(\"XYZ_Bank_Deposit_Data_Classification.csv\")\n",
    "print(\"There are\",df.count(),\"rows\",len(df.columns),\n",
    "      \"columns\" ,\"in the data.\") "
   ]
  },
  {
   "cell_type": "markdown",
   "id": "dd736356",
   "metadata": {},
   "source": [
    "### Sample of Data"
   ]
  },
  {
   "cell_type": "code",
   "execution_count": 10,
   "id": "d8b3d693",
   "metadata": {},
   "outputs": [
    {
     "name": "stdout",
     "output_type": "stream",
     "text": [
      "+---+---------+-------+-----------+-------+-------+----+---------+-----+-----------+--------+--------+-----+--------+-----------+------------+--------------+-------------+---------+-----------+---+\n",
      "|age|      job|marital|  education|default|housing|loan|  contact|month|day_of_week|duration|campaign|pdays|previous|   poutcome|emp.var.rate|cons.price.idx|cons.conf.idx|euribor3m|nr.employed|  y|\n",
      "+---+---------+-------+-----------+-------+-------+----+---------+-----+-----------+--------+--------+-----+--------+-----------+------------+--------------+-------------+---------+-----------+---+\n",
      "| 56|housemaid|married|   basic.4y|     no|     no|  no|telephone|  may|        mon|     261|       1|  999|       0|nonexistent|         1.1|        93.994|        -36.4|    4.857|     5191.0| no|\n",
      "| 57| services|married|high.school|unknown|     no|  no|telephone|  may|        mon|     149|       1|  999|       0|nonexistent|         1.1|        93.994|        -36.4|    4.857|     5191.0| no|\n",
      "| 37| services|married|high.school|     no|    yes|  no|telephone|  may|        mon|     226|       1|  999|       0|nonexistent|         1.1|        93.994|        -36.4|    4.857|     5191.0| no|\n",
      "| 40|   admin.|married|   basic.6y|     no|     no|  no|telephone|  may|        mon|     151|       1|  999|       0|nonexistent|         1.1|        93.994|        -36.4|    4.857|     5191.0| no|\n",
      "+---+---------+-------+-----------+-------+-------+----+---------+-----+-----------+--------+--------+-----+--------+-----------+------------+--------------+-------------+---------+-----------+---+\n",
      "only showing top 4 rows\n",
      "\n"
     ]
    }
   ],
   "source": [
    "df.show(4)"
   ]
  },
  {
   "cell_type": "markdown",
   "id": "b852dd71",
   "metadata": {},
   "source": [
    "### DataTypes"
   ]
  },
  {
   "cell_type": "code",
   "execution_count": 11,
   "id": "5f25a26d",
   "metadata": {},
   "outputs": [
    {
     "name": "stdout",
     "output_type": "stream",
     "text": [
      "root\n",
      " |-- age: integer (nullable = true)\n",
      " |-- job: string (nullable = true)\n",
      " |-- marital: string (nullable = true)\n",
      " |-- education: string (nullable = true)\n",
      " |-- default: string (nullable = true)\n",
      " |-- housing: string (nullable = true)\n",
      " |-- loan: string (nullable = true)\n",
      " |-- contact: string (nullable = true)\n",
      " |-- month: string (nullable = true)\n",
      " |-- day_of_week: string (nullable = true)\n",
      " |-- duration: integer (nullable = true)\n",
      " |-- campaign: integer (nullable = true)\n",
      " |-- pdays: integer (nullable = true)\n",
      " |-- previous: integer (nullable = true)\n",
      " |-- poutcome: string (nullable = true)\n",
      " |-- emp.var.rate: double (nullable = true)\n",
      " |-- cons.price.idx: double (nullable = true)\n",
      " |-- cons.conf.idx: double (nullable = true)\n",
      " |-- euribor3m: double (nullable = true)\n",
      " |-- nr.employed: double (nullable = true)\n",
      " |-- y: string (nullable = true)\n",
      "\n"
     ]
    }
   ],
   "source": [
    "\n",
    "\n",
    "df.printSchema()"
   ]
  },
  {
   "cell_type": "markdown",
   "id": "b15ce975",
   "metadata": {},
   "source": [
    "### Distrubution of Target Variable"
   ]
  },
  {
   "cell_type": "code",
   "execution_count": 12,
   "id": "860cfdb4",
   "metadata": {},
   "outputs": [
    {
     "name": "stdout",
     "output_type": "stream",
     "text": [
      "+---+-----+\n",
      "|  Y|count|\n",
      "+---+-----+\n",
      "| no|36548|\n",
      "|yes| 4640|\n",
      "+---+-----+\n",
      "\n"
     ]
    }
   ],
   "source": [
    "df.groupby(\"Y\").count().show()"
   ]
  },
  {
   "cell_type": "code",
   "execution_count": 13,
   "id": "b62a8bde",
   "metadata": {},
   "outputs": [
    {
     "name": "stdout",
     "output_type": "stream",
     "text": [
      "root\n",
      " |-- age: integer (nullable = true)\n",
      " |-- job: string (nullable = true)\n",
      " |-- marital: string (nullable = true)\n",
      " |-- education: string (nullable = true)\n",
      " |-- default: string (nullable = true)\n",
      " |-- housing: string (nullable = true)\n",
      " |-- loan: string (nullable = true)\n",
      " |-- contact: string (nullable = true)\n",
      " |-- month: string (nullable = true)\n",
      " |-- day_of_week: string (nullable = true)\n",
      " |-- duration: integer (nullable = true)\n",
      " |-- campaign: integer (nullable = true)\n",
      " |-- pdays: integer (nullable = true)\n",
      " |-- previous: integer (nullable = true)\n",
      " |-- poutcome: string (nullable = true)\n",
      " |-- EmpVarRate: double (nullable = true)\n",
      " |-- ConsPriceIndx: double (nullable = true)\n",
      " |-- ConsConfIndx: double (nullable = true)\n",
      " |-- euribor3m: double (nullable = true)\n",
      " |-- NrEmployed: double (nullable = true)\n",
      " |-- y: string (nullable = true)\n",
      "\n"
     ]
    }
   ],
   "source": [
    "# renaming the 4 variables to remove dot (.) from their names\n",
    "df=df.withColumnRenamed(\"emp.var.rate\",\"EmpVarRate\")\\\n",
    "    .withColumnRenamed(\"cons.price.idx\",\"ConsPriceIndx\")\\\n",
    "    .withColumnRenamed(\"nr.employed\",\"NrEmployed\" ) \\\n",
    "    .withColumnRenamed(\"cons.conf.idx\",\"ConsConfIndx\" ) \n",
    "\n",
    "df.printSchema()\n"
   ]
  },
  {
   "cell_type": "markdown",
   "id": "b18c5932",
   "metadata": {},
   "source": [
    "### Statistics "
   ]
  },
  {
   "cell_type": "code",
   "execution_count": 14,
   "id": "5d9f78d2",
   "metadata": {},
   "outputs": [
    {
     "data": {
      "text/html": [
       "<div>\n",
       "<style scoped>\n",
       "    .dataframe tbody tr th:only-of-type {\n",
       "        vertical-align: middle;\n",
       "    }\n",
       "\n",
       "    .dataframe tbody tr th {\n",
       "        vertical-align: top;\n",
       "    }\n",
       "\n",
       "    .dataframe thead th {\n",
       "        text-align: right;\n",
       "    }\n",
       "</style>\n",
       "<table border=\"1\" class=\"dataframe\">\n",
       "  <thead>\n",
       "    <tr style=\"text-align: right;\">\n",
       "      <th></th>\n",
       "      <th>0</th>\n",
       "      <th>1</th>\n",
       "      <th>2</th>\n",
       "      <th>3</th>\n",
       "      <th>4</th>\n",
       "    </tr>\n",
       "  </thead>\n",
       "  <tbody>\n",
       "    <tr>\n",
       "      <th>summary</th>\n",
       "      <td>count</td>\n",
       "      <td>mean</td>\n",
       "      <td>stddev</td>\n",
       "      <td>min</td>\n",
       "      <td>max</td>\n",
       "    </tr>\n",
       "    <tr>\n",
       "      <th>age</th>\n",
       "      <td>41188</td>\n",
       "      <td>40.02406040594348</td>\n",
       "      <td>10.421249980934043</td>\n",
       "      <td>17</td>\n",
       "      <td>98</td>\n",
       "    </tr>\n",
       "    <tr>\n",
       "      <th>duration</th>\n",
       "      <td>41188</td>\n",
       "      <td>258.2850101971448</td>\n",
       "      <td>259.27924883646455</td>\n",
       "      <td>0</td>\n",
       "      <td>4918</td>\n",
       "    </tr>\n",
       "    <tr>\n",
       "      <th>campaign</th>\n",
       "      <td>41188</td>\n",
       "      <td>2.567592502670681</td>\n",
       "      <td>2.770013542902331</td>\n",
       "      <td>1</td>\n",
       "      <td>56</td>\n",
       "    </tr>\n",
       "    <tr>\n",
       "      <th>pdays</th>\n",
       "      <td>41188</td>\n",
       "      <td>962.4754540157328</td>\n",
       "      <td>186.910907344741</td>\n",
       "      <td>0</td>\n",
       "      <td>999</td>\n",
       "    </tr>\n",
       "    <tr>\n",
       "      <th>previous</th>\n",
       "      <td>41188</td>\n",
       "      <td>0.17296299893172767</td>\n",
       "      <td>0.49490107983928927</td>\n",
       "      <td>0</td>\n",
       "      <td>7</td>\n",
       "    </tr>\n",
       "    <tr>\n",
       "      <th>EmpVarRate</th>\n",
       "      <td>41188</td>\n",
       "      <td>0.08188550063178966</td>\n",
       "      <td>1.57095974051703</td>\n",
       "      <td>-3.4</td>\n",
       "      <td>1.4</td>\n",
       "    </tr>\n",
       "    <tr>\n",
       "      <th>ConsPriceIndx</th>\n",
       "      <td>41188</td>\n",
       "      <td>93.5756643682899</td>\n",
       "      <td>0.5788400489540823</td>\n",
       "      <td>92.201</td>\n",
       "      <td>94.767</td>\n",
       "    </tr>\n",
       "    <tr>\n",
       "      <th>ConsConfIndx</th>\n",
       "      <td>41188</td>\n",
       "      <td>-40.502600271918276</td>\n",
       "      <td>4.628197856174573</td>\n",
       "      <td>-50.8</td>\n",
       "      <td>-26.9</td>\n",
       "    </tr>\n",
       "    <tr>\n",
       "      <th>euribor3m</th>\n",
       "      <td>41188</td>\n",
       "      <td>3.621290812858533</td>\n",
       "      <td>1.7344474048512595</td>\n",
       "      <td>0.634</td>\n",
       "      <td>5.045</td>\n",
       "    </tr>\n",
       "    <tr>\n",
       "      <th>NrEmployed</th>\n",
       "      <td>41188</td>\n",
       "      <td>5167.035910943957</td>\n",
       "      <td>72.25152766826338</td>\n",
       "      <td>4963.6</td>\n",
       "      <td>5228.1</td>\n",
       "    </tr>\n",
       "  </tbody>\n",
       "</table>\n",
       "</div>"
      ],
      "text/plain": [
       "                   0                    1                    2       3       4\n",
       "summary        count                 mean               stddev     min     max\n",
       "age            41188    40.02406040594348   10.421249980934043      17      98\n",
       "duration       41188    258.2850101971448   259.27924883646455       0    4918\n",
       "campaign       41188    2.567592502670681    2.770013542902331       1      56\n",
       "pdays          41188    962.4754540157328     186.910907344741       0     999\n",
       "previous       41188  0.17296299893172767  0.49490107983928927       0       7\n",
       "EmpVarRate     41188  0.08188550063178966     1.57095974051703    -3.4     1.4\n",
       "ConsPriceIndx  41188     93.5756643682899   0.5788400489540823  92.201  94.767\n",
       "ConsConfIndx   41188  -40.502600271918276    4.628197856174573   -50.8   -26.9\n",
       "euribor3m      41188    3.621290812858533   1.7344474048512595   0.634   5.045\n",
       "NrEmployed     41188    5167.035910943957    72.25152766826338  4963.6  5228.1"
      ]
     },
     "execution_count": 14,
     "metadata": {},
     "output_type": "execute_result"
    }
   ],
   "source": [
    "numeric_features = [t[0] for t in df.dtypes if t[1] != 'string']\n",
    "df.select(numeric_features).describe().toPandas().transpose()"
   ]
  },
  {
   "cell_type": "code",
   "execution_count": 15,
   "id": "46a63eab",
   "metadata": {},
   "outputs": [
    {
     "data": {
      "text/plain": [
       "{'age': 0,\n",
       " 'job': 0,\n",
       " 'marital': 0,\n",
       " 'education': 0,\n",
       " 'default': 0,\n",
       " 'housing': 0,\n",
       " 'loan': 0,\n",
       " 'contact': 0,\n",
       " 'month': 0,\n",
       " 'day_of_week': 0,\n",
       " 'duration': 0,\n",
       " 'campaign': 0,\n",
       " 'pdays': 0,\n",
       " 'previous': 0,\n",
       " 'poutcome': 0,\n",
       " 'EmpVarRate': 0,\n",
       " 'ConsPriceIndx': 0,\n",
       " 'ConsConfIndx': 0,\n",
       " 'euribor3m': 0,\n",
       " 'NrEmployed': 0,\n",
       " 'y': 0}"
      ]
     },
     "execution_count": 15,
     "metadata": {},
     "output_type": "execute_result"
    }
   ],
   "source": [
    "#identifying null values\n",
    "Dict_Null = {col:df.filter(df[col].isNull()).count() for col in df.columns}\n",
    "Dict_Null"
   ]
  },
  {
   "cell_type": "markdown",
   "id": "fca599c8",
   "metadata": {},
   "source": [
    "##### So, no null values"
   ]
  },
  {
   "cell_type": "markdown",
   "id": "7247eb81",
   "metadata": {},
   "source": [
    "### Export to Examine"
   ]
  },
  {
   "cell_type": "code",
   "execution_count": 16,
   "id": "992f8606",
   "metadata": {},
   "outputs": [],
   "source": [
    "df.toPandas().to_csv('data.csv')"
   ]
  },
  {
   "cell_type": "code",
   "execution_count": 17,
   "id": "8b77b56f",
   "metadata": {},
   "outputs": [
    {
     "name": "stdout",
     "output_type": "stream",
     "text": [
      "Cardinality of job is  12\n",
      "Cardinality of marital is  4\n",
      "Cardinality of education is  8\n",
      "Cardinality of default is  3\n",
      "Cardinality of housing is  3\n",
      "Cardinality of loan is  3\n",
      "Cardinality of contact is  2\n",
      "Cardinality of month is  10\n",
      "Cardinality of day_of_week is  5\n",
      "Cardinality of poutcome is  3\n",
      "Cardinality of y is  2\n"
     ]
    }
   ],
   "source": [
    "# finding the cardinality of categorical columns\n",
    "categorical_features = [t[0] for t in df.dtypes if t[1] == 'string']\n",
    "for c in categorical_features:\n",
    "    count1=df.select(c).distinct().count()\n",
    "    print('Cardinality of ' + c +' is ', count1)"
   ]
  },
  {
   "cell_type": "code",
   "execution_count": 18,
   "id": "59a065f6",
   "metadata": {},
   "outputs": [
    {
     "name": "stdout",
     "output_type": "stream",
     "text": [
      "+-------------+\n",
      "|          job|\n",
      "+-------------+\n",
      "|   management|\n",
      "|      retired|\n",
      "|      unknown|\n",
      "|self-employed|\n",
      "|      student|\n",
      "|  blue-collar|\n",
      "| entrepreneur|\n",
      "|       admin.|\n",
      "|   technician|\n",
      "|     services|\n",
      "|    housemaid|\n",
      "|   unemployed|\n",
      "+-------------+\n",
      "\n",
      "None\n",
      "+--------+\n",
      "| marital|\n",
      "+--------+\n",
      "| unknown|\n",
      "|divorced|\n",
      "| married|\n",
      "|  single|\n",
      "+--------+\n",
      "\n",
      "None\n",
      "+-------------------+\n",
      "|          education|\n",
      "+-------------------+\n",
      "|        high.school|\n",
      "|            unknown|\n",
      "|           basic.6y|\n",
      "|professional.course|\n",
      "|  university.degree|\n",
      "|         illiterate|\n",
      "|           basic.4y|\n",
      "|           basic.9y|\n",
      "+-------------------+\n",
      "\n",
      "None\n",
      "+-------+\n",
      "|default|\n",
      "+-------+\n",
      "|unknown|\n",
      "|     no|\n",
      "|    yes|\n",
      "+-------+\n",
      "\n",
      "None\n",
      "+-------+\n",
      "|housing|\n",
      "+-------+\n",
      "|unknown|\n",
      "|     no|\n",
      "|    yes|\n",
      "+-------+\n",
      "\n",
      "None\n",
      "+-------+\n",
      "|   loan|\n",
      "+-------+\n",
      "|unknown|\n",
      "|     no|\n",
      "|    yes|\n",
      "+-------+\n",
      "\n",
      "None\n",
      "+---------+\n",
      "|  contact|\n",
      "+---------+\n",
      "| cellular|\n",
      "|telephone|\n",
      "+---------+\n",
      "\n",
      "None\n",
      "+-----+\n",
      "|month|\n",
      "+-----+\n",
      "|  jun|\n",
      "|  aug|\n",
      "|  may|\n",
      "|  mar|\n",
      "|  oct|\n",
      "|  jul|\n",
      "|  nov|\n",
      "|  apr|\n",
      "|  dec|\n",
      "|  sep|\n",
      "+-----+\n",
      "\n",
      "None\n",
      "+-----------+\n",
      "|day_of_week|\n",
      "+-----------+\n",
      "|        fri|\n",
      "|        thu|\n",
      "|        tue|\n",
      "|        wed|\n",
      "|        mon|\n",
      "+-----------+\n",
      "\n",
      "None\n",
      "+-----------+\n",
      "|   poutcome|\n",
      "+-----------+\n",
      "|    success|\n",
      "|    failure|\n",
      "|nonexistent|\n",
      "+-----------+\n",
      "\n",
      "None\n",
      "+---+\n",
      "|  y|\n",
      "+---+\n",
      "| no|\n",
      "|yes|\n",
      "+---+\n",
      "\n",
      "None\n"
     ]
    }
   ],
   "source": [
    "# finding the distinct values in categorical columns\n",
    "categorical_features = [t[0] for t in df.dtypes if t[1] == 'string']\n",
    "for c in categorical_features:\n",
    "    count2=df.select(c).distinct().show()\n",
    "    print(count2)"
   ]
  },
  {
   "cell_type": "code",
   "execution_count": 19,
   "id": "331ba390",
   "metadata": {},
   "outputs": [
    {
     "name": "stdout",
     "output_type": "stream",
     "text": [
      "+-------------+-----+\n",
      "|          job|count|\n",
      "+-------------+-----+\n",
      "|   management| 2924|\n",
      "|      retired| 1720|\n",
      "|      unknown|  330|\n",
      "|self-employed| 1421|\n",
      "|      student|  875|\n",
      "|  blue-collar| 9254|\n",
      "| entrepreneur| 1456|\n",
      "|       admin.|10422|\n",
      "|   technician| 6743|\n",
      "|     services| 3969|\n",
      "|    housemaid| 1060|\n",
      "|   unemployed| 1014|\n",
      "+-------------+-----+\n",
      "\n",
      "+--------+-----+\n",
      "| marital|count|\n",
      "+--------+-----+\n",
      "| unknown|   80|\n",
      "|divorced| 4612|\n",
      "| married|24928|\n",
      "|  single|11568|\n",
      "+--------+-----+\n",
      "\n",
      "+-------------------+-----+\n",
      "|          education|count|\n",
      "+-------------------+-----+\n",
      "|        high.school| 9515|\n",
      "|            unknown| 1731|\n",
      "|           basic.6y| 2292|\n",
      "|professional.course| 5243|\n",
      "|  university.degree|12168|\n",
      "|         illiterate|   18|\n",
      "|           basic.4y| 4176|\n",
      "|           basic.9y| 6045|\n",
      "+-------------------+-----+\n",
      "\n",
      "+-------+-----+\n",
      "|default|count|\n",
      "+-------+-----+\n",
      "|unknown| 8597|\n",
      "|     no|32588|\n",
      "|    yes|    3|\n",
      "+-------+-----+\n",
      "\n",
      "+-------+-----+\n",
      "|housing|count|\n",
      "+-------+-----+\n",
      "|unknown|  990|\n",
      "|     no|18622|\n",
      "|    yes|21576|\n",
      "+-------+-----+\n",
      "\n",
      "+-------+-----+\n",
      "|   loan|count|\n",
      "+-------+-----+\n",
      "|unknown|  990|\n",
      "|     no|33950|\n",
      "|    yes| 6248|\n",
      "+-------+-----+\n",
      "\n",
      "+---------+-----+\n",
      "|  contact|count|\n",
      "+---------+-----+\n",
      "| cellular|26144|\n",
      "|telephone|15044|\n",
      "+---------+-----+\n",
      "\n",
      "+-----+-----+\n",
      "|month|count|\n",
      "+-----+-----+\n",
      "|  jun| 5318|\n",
      "|  aug| 6178|\n",
      "|  may|13769|\n",
      "|  mar|  546|\n",
      "|  oct|  718|\n",
      "|  jul| 7174|\n",
      "|  nov| 4101|\n",
      "|  apr| 2632|\n",
      "|  dec|  182|\n",
      "|  sep|  570|\n",
      "+-----+-----+\n",
      "\n",
      "+-----------+-----+\n",
      "|day_of_week|count|\n",
      "+-----------+-----+\n",
      "|        fri| 7827|\n",
      "|        thu| 8623|\n",
      "|        tue| 8090|\n",
      "|        wed| 8134|\n",
      "|        mon| 8514|\n",
      "+-----------+-----+\n",
      "\n",
      "+-----------+-----+\n",
      "|   poutcome|count|\n",
      "+-----------+-----+\n",
      "|    success| 1373|\n",
      "|    failure| 4252|\n",
      "|nonexistent|35563|\n",
      "+-----------+-----+\n",
      "\n"
     ]
    }
   ],
   "source": [
    "df.groupby(\"job\").count().show()\n",
    "df.groupby(\"marital\").count().show()\n",
    "df.groupby(\"education\").count().show()\n",
    "df.groupby(\"default\").count().show()\n",
    "df.groupby(\"housing\").count().show()\n",
    "df.groupby(\"loan\").count().show()\n",
    "df.groupby(\"contact\").count().show()\n",
    "df.groupby(\"month\").count().show()\n",
    "df.groupby(\"day_of_week\").count().show()\n",
    "df.groupby(\"poutcome\").count().show()\n",
    "#should unkown be nan?"
   ]
  },
  {
   "cell_type": "code",
   "execution_count": 20,
   "id": "feaa1f84",
   "metadata": {},
   "outputs": [
    {
     "data": {
      "image/png": "[encoded data removed]",
      "text/plain": [
       "<Figure size 1800x1080 with 10 Axes>"
      ]
     },
     "metadata": {},
     "output_type": "display_data"
    }
   ],
   "source": [
    "from matplotlib import cm\n",
    "fig = plt.figure(figsize=(25,15)) ## Plot Size \n",
    "st = fig.suptitle(\"Distribution of Features\", fontsize=50,\n",
    "                  verticalalignment='center') # Plot Main Title \n",
    "\n",
    "for col,num in zip(df.toPandas().describe().columns, range(1,12)):\n",
    "    ax = fig.add_subplot(3,4,num)\n",
    "    ax.hist(df.toPandas()[col])\n",
    "    plt.style.use('dark_background') \n",
    "    plt.grid(False)\n",
    "    plt.xticks(rotation=45,fontsize=20)\n",
    "    plt.yticks(fontsize=15)\n",
    "    plt.title(col.upper(),fontsize=20)\n",
    "plt.tight_layout()\n",
    "st.set_y(0.95)\n",
    "fig.subplots_adjust(top=0.85,hspace = 0.4)\n",
    "plt.show()"
   ]
  },
  {
   "cell_type": "code",
   "execution_count": 21,
   "id": "e67c5054",
   "metadata": {},
   "outputs": [],
   "source": [
    "#from pyspark.pandas.DataFrame.plot import bar   \n",
    "\n",
    "#df.toPandas().plot.bar(x='y', y='age') \n",
    "#plt.show()\n"
   ]
  },
  {
   "cell_type": "markdown",
   "id": "243eaacb",
   "metadata": {},
   "source": [
    "#Bivariate Analysis"
   ]
  },
  {
   "cell_type": "code",
   "execution_count": 22,
   "id": "9df87ee1",
   "metadata": {},
   "outputs": [
    {
     "data": {
      "text/plain": [
       "<AxesSubplot:xlabel='age', ylabel='y'>"
      ]
     },
     "execution_count": 22,
     "metadata": {},
     "output_type": "execute_result"
    },
    {
     "data": {
      "image/png": "[encoded data removed]",
      "text/plain": [
       "<Figure size 432x288 with 1 Axes>"
      ]
     },
     "metadata": {},
     "output_type": "display_data"
    }
   ],
   "source": [
    "import seaborn\n",
    "seaborn.violinplot(data=df.toPandas(), x='age', y='y')"
   ]
  },
  {
   "cell_type": "code",
   "execution_count": 23,
   "id": "30e7d830",
   "metadata": {},
   "outputs": [
    {
     "data": {
      "text/plain": [
       "<AxesSubplot:xlabel='duration', ylabel='y'>"
      ]
     },
     "execution_count": 23,
     "metadata": {},
     "output_type": "execute_result"
    },
    {
     "data": {
      "image/png": "[encoded data removed]",
      "text/plain": [
       "<Figure size 432x288 with 1 Axes>"
      ]
     },
     "metadata": {},
     "output_type": "display_data"
    }
   ],
   "source": [
    "seaborn.violinplot(data=df.toPandas(), x='duration', y='y')"
   ]
  },
  {
   "cell_type": "code",
   "execution_count": 24,
   "id": "6d44a2e6",
   "metadata": {},
   "outputs": [
    {
     "data": {
      "text/plain": [
       "<AxesSubplot:xlabel='campaign', ylabel='y'>"
      ]
     },
     "execution_count": 24,
     "metadata": {},
     "output_type": "execute_result"
    },
    {
     "data": {
      "image/png": "[encoded data removed]",
      "text/plain": [
       "<Figure size 432x288 with 1 Axes>"
      ]
     },
     "metadata": {},
     "output_type": "display_data"
    }
   ],
   "source": [
    "seaborn.violinplot(data=df.toPandas(), x='campaign', y='y')"
   ]
  },
  {
   "cell_type": "code",
   "execution_count": 25,
   "id": "cdcc1802",
   "metadata": {},
   "outputs": [
    {
     "data": {
      "text/plain": [
       "<AxesSubplot:xlabel='pdays', ylabel='y'>"
      ]
     },
     "execution_count": 25,
     "metadata": {},
     "output_type": "execute_result"
    },
    {
     "data": {
      "image/png": "[encoded data removed]",
      "text/plain": [
       "<Figure size 432x288 with 1 Axes>"
      ]
     },
     "metadata": {},
     "output_type": "display_data"
    }
   ],
   "source": [
    "seaborn.violinplot(data=df.toPandas(), x='pdays', y='y')"
   ]
  },
  {
   "cell_type": "code",
   "execution_count": 26,
   "id": "183c1b1d",
   "metadata": {},
   "outputs": [
    {
     "data": {
      "text/plain": [
       "<AxesSubplot:xlabel='previous', ylabel='y'>"
      ]
     },
     "execution_count": 26,
     "metadata": {},
     "output_type": "execute_result"
    },
    {
     "data": {
      "image/png": "[encoded data removed]",
      "text/plain": [
       "<Figure size 432x288 with 1 Axes>"
      ]
     },
     "metadata": {},
     "output_type": "display_data"
    }
   ],
   "source": [
    "seaborn.violinplot(data=df.toPandas(), x='previous', y='y')"
   ]
  },
  {
   "cell_type": "code",
   "execution_count": 27,
   "id": "2fb9c903",
   "metadata": {},
   "outputs": [
    {
     "data": {
      "text/plain": [
       "<AxesSubplot:xlabel='EmpVarRate', ylabel='y'>"
      ]
     },
     "execution_count": 27,
     "metadata": {},
     "output_type": "execute_result"
    },
    {
     "data": {
      "image/png": "[encoded data removed]",
      "text/plain": [
       "<Figure size 432x288 with 1 Axes>"
      ]
     },
     "metadata": {},
     "output_type": "display_data"
    }
   ],
   "source": [
    "seaborn.violinplot(data=df.toPandas(), x='EmpVarRate', y='y')"
   ]
  },
  {
   "cell_type": "code",
   "execution_count": 28,
   "id": "ccc9fae7",
   "metadata": {},
   "outputs": [
    {
     "data": {
      "text/plain": [
       "<AxesSubplot:xlabel='ConsPriceIndx', ylabel='y'>"
      ]
     },
     "execution_count": 28,
     "metadata": {},
     "output_type": "execute_result"
    },
    {
     "data": {
      "image/png": "[encoded data removed]",
      "text/plain": [
       "<Figure size 432x288 with 1 Axes>"
      ]
     },
     "metadata": {},
     "output_type": "display_data"
    }
   ],
   "source": [
    "seaborn.violinplot(data=df.toPandas(), x='ConsPriceIndx', y='y')"
   ]
  },
  {
   "cell_type": "code",
   "execution_count": 29,
   "id": "160e3873",
   "metadata": {},
   "outputs": [
    {
     "data": {
      "text/plain": [
       "<AxesSubplot:xlabel='ConsConfIndx', ylabel='y'>"
      ]
     },
     "execution_count": 29,
     "metadata": {},
     "output_type": "execute_result"
    },
    {
     "data": {
      "image/png": "[encoded data removed]",
      "text/plain": [
       "<Figure size 432x288 with 1 Axes>"
      ]
     },
     "metadata": {},
     "output_type": "display_data"
    }
   ],
   "source": [
    "seaborn.violinplot(data=df.toPandas(), x='ConsConfIndx', y='y')"
   ]
  },
  {
   "cell_type": "code",
   "execution_count": 30,
   "id": "af4839ab",
   "metadata": {},
   "outputs": [
    {
     "data": {
      "text/plain": [
       "<AxesSubplot:xlabel='euribor3m', ylabel='y'>"
      ]
     },
     "execution_count": 30,
     "metadata": {},
     "output_type": "execute_result"
    },
    {
     "data": {
      "image/png": "[encoded data removed]",
      "text/plain": [
       "<Figure size 432x288 with 1 Axes>"
      ]
     },
     "metadata": {},
     "output_type": "display_data"
    }
   ],
   "source": [
    "seaborn.violinplot(data=df.toPandas(), x='euribor3m', y='y')"
   ]
  },
  {
   "cell_type": "code",
   "execution_count": 31,
   "id": "66b37bb8",
   "metadata": {},
   "outputs": [
    {
     "data": {
      "text/plain": [
       "<AxesSubplot:xlabel='NrEmployed', ylabel='y'>"
      ]
     },
     "execution_count": 31,
     "metadata": {},
     "output_type": "execute_result"
    },
    {
     "data": {
      "image/png": "[encoded data removed]",
      "text/plain": [
       "<Figure size 432x288 with 1 Axes>"
      ]
     },
     "metadata": {},
     "output_type": "display_data"
    }
   ],
   "source": [
    "seaborn.violinplot(data=df.toPandas(), x='NrEmployed', y='y') "
   ]
  },
  {
   "cell_type": "code",
   "execution_count": 32,
   "id": "6211c756",
   "metadata": {},
   "outputs": [
    {
     "name": "stdout",
     "output_type": "stream",
     "text": [
      "+--------+-----+----+\n",
      "| marital|   no| yes|\n",
      "+--------+-----+----+\n",
      "| unknown|   68|  12|\n",
      "|divorced| 4136| 476|\n",
      "| married|22396|2532|\n",
      "|  single| 9948|1620|\n",
      "+--------+-----+----+\n",
      "\n"
     ]
    }
   ],
   "source": [
    "df.groupBy('marital').pivot('y').count().show()"
   ]
  },
  {
   "cell_type": "code",
   "execution_count": 33,
   "id": "c4437e14",
   "metadata": {},
   "outputs": [
    {
     "name": "stdout",
     "output_type": "stream",
     "text": [
      "+-------------+----+----+\n",
      "|          job|  no| yes|\n",
      "+-------------+----+----+\n",
      "|   management|2596| 328|\n",
      "|      retired|1286| 434|\n",
      "|      unknown| 293|  37|\n",
      "|self-employed|1272| 149|\n",
      "|      student| 600| 275|\n",
      "|  blue-collar|8616| 638|\n",
      "| entrepreneur|1332| 124|\n",
      "|       admin.|9070|1352|\n",
      "|   technician|6013| 730|\n",
      "|     services|3646| 323|\n",
      "|    housemaid| 954| 106|\n",
      "|   unemployed| 870| 144|\n",
      "+-------------+----+----+\n",
      "\n"
     ]
    }
   ],
   "source": [
    "df.groupBy('job').pivot('y').count().show()"
   ]
  },
  {
   "cell_type": "code",
   "execution_count": 34,
   "id": "9cc896a8",
   "metadata": {},
   "outputs": [
    {
     "name": "stdout",
     "output_type": "stream",
     "text": [
      "+-------------------+-----+----+\n",
      "|          education|   no| yes|\n",
      "+-------------------+-----+----+\n",
      "|        high.school| 8484|1031|\n",
      "|            unknown| 1480| 251|\n",
      "|           basic.6y| 2104| 188|\n",
      "|professional.course| 4648| 595|\n",
      "|  university.degree|10498|1670|\n",
      "|         illiterate|   14|   4|\n",
      "|           basic.4y| 3748| 428|\n",
      "|           basic.9y| 5572| 473|\n",
      "+-------------------+-----+----+\n",
      "\n"
     ]
    }
   ],
   "source": [
    "df.groupBy('education').pivot('y').count().show()"
   ]
  },
  {
   "cell_type": "code",
   "execution_count": 35,
   "id": "41e19a82",
   "metadata": {},
   "outputs": [
    {
     "name": "stdout",
     "output_type": "stream",
     "text": [
      "+-------+-----+----+\n",
      "|default|   no| yes|\n",
      "+-------+-----+----+\n",
      "|unknown| 8154| 443|\n",
      "|     no|28391|4197|\n",
      "|    yes|    3|null|\n",
      "+-------+-----+----+\n",
      "\n"
     ]
    }
   ],
   "source": [
    "df.groupBy('default').pivot('y').count().show()"
   ]
  },
  {
   "cell_type": "code",
   "execution_count": 36,
   "id": "9c4a7ead",
   "metadata": {},
   "outputs": [
    {
     "name": "stdout",
     "output_type": "stream",
     "text": [
      "+-------+-----+----+\n",
      "|housing|   no| yes|\n",
      "+-------+-----+----+\n",
      "|unknown|  883| 107|\n",
      "|     no|16596|2026|\n",
      "|    yes|19069|2507|\n",
      "+-------+-----+----+\n",
      "\n"
     ]
    }
   ],
   "source": [
    "df.groupBy('housing').pivot('y').count().show()"
   ]
  },
  {
   "cell_type": "code",
   "execution_count": 37,
   "id": "592d7386",
   "metadata": {},
   "outputs": [
    {
     "name": "stdout",
     "output_type": "stream",
     "text": [
      "+-------+-----+----+\n",
      "|   loan|   no| yes|\n",
      "+-------+-----+----+\n",
      "|unknown|  883| 107|\n",
      "|     no|30100|3850|\n",
      "|    yes| 5565| 683|\n",
      "+-------+-----+----+\n",
      "\n"
     ]
    }
   ],
   "source": [
    "df.groupBy('loan').pivot('y').count().show()"
   ]
  },
  {
   "cell_type": "code",
   "execution_count": 38,
   "id": "ce1066c5",
   "metadata": {},
   "outputs": [
    {
     "name": "stdout",
     "output_type": "stream",
     "text": [
      "+---------+-----+----+\n",
      "|  contact|   no| yes|\n",
      "+---------+-----+----+\n",
      "| cellular|22291|3853|\n",
      "|telephone|14257| 787|\n",
      "+---------+-----+----+\n",
      "\n"
     ]
    }
   ],
   "source": [
    "df.groupBy('contact').pivot('y').count().show()"
   ]
  },
  {
   "cell_type": "code",
   "execution_count": 39,
   "id": "d28a4c17",
   "metadata": {},
   "outputs": [
    {
     "name": "stdout",
     "output_type": "stream",
     "text": [
      "+-----+-----+---+\n",
      "|month|   no|yes|\n",
      "+-----+-----+---+\n",
      "|  jun| 4759|559|\n",
      "|  aug| 5523|655|\n",
      "|  may|12883|886|\n",
      "|  sep|  314|256|\n",
      "|  mar|  270|276|\n",
      "|  oct|  403|315|\n",
      "|  jul| 6525|649|\n",
      "|  nov| 3685|416|\n",
      "|  apr| 2093|539|\n",
      "|  dec|   93| 89|\n",
      "+-----+-----+---+\n",
      "\n"
     ]
    }
   ],
   "source": [
    "df.groupBy('month').pivot('y').count().show()"
   ]
  },
  {
   "cell_type": "code",
   "execution_count": 40,
   "id": "a2e8ca05",
   "metadata": {},
   "outputs": [
    {
     "name": "stdout",
     "output_type": "stream",
     "text": [
      "+-----------+----+----+\n",
      "|day_of_week|  no| yes|\n",
      "+-----------+----+----+\n",
      "|        fri|6981| 846|\n",
      "|        thu|7578|1045|\n",
      "|        tue|7137| 953|\n",
      "|        wed|7185| 949|\n",
      "|        mon|7667| 847|\n",
      "+-----------+----+----+\n",
      "\n"
     ]
    }
   ],
   "source": [
    "df.groupBy('day_of_week').pivot('y').count().show()"
   ]
  },
  {
   "cell_type": "code",
   "execution_count": 41,
   "id": "08194768",
   "metadata": {},
   "outputs": [
    {
     "name": "stdout",
     "output_type": "stream",
     "text": [
      "+-----------+-----+----+\n",
      "|   poutcome|   no| yes|\n",
      "+-----------+-----+----+\n",
      "|    success|  479| 894|\n",
      "|    failure| 3647| 605|\n",
      "|nonexistent|32422|3141|\n",
      "+-----------+-----+----+\n",
      "\n"
     ]
    }
   ],
   "source": [
    "df.groupBy('poutcome').pivot('y').count().show()"
   ]
  },
  {
   "cell_type": "code",
   "execution_count": 42,
   "id": "621fc6dc",
   "metadata": {},
   "outputs": [],
   "source": [
    "#pyspark.pandas.df.plot.bar(x='y', y='age') "
   ]
  },
  {
   "cell_type": "code",
   "execution_count": 43,
   "id": "cc8218d0",
   "metadata": {},
   "outputs": [
    {
     "data": {
      "text/html": [
       "<div>\n",
       "<style scoped>\n",
       "    .dataframe tbody tr th:only-of-type {\n",
       "        vertical-align: middle;\n",
       "    }\n",
       "\n",
       "    .dataframe tbody tr th {\n",
       "        vertical-align: top;\n",
       "    }\n",
       "\n",
       "    .dataframe thead th {\n",
       "        text-align: right;\n",
       "    }\n",
       "</style>\n",
       "<table border=\"1\" class=\"dataframe\">\n",
       "  <thead>\n",
       "    <tr style=\"text-align: right;\">\n",
       "      <th></th>\n",
       "      <th>age</th>\n",
       "      <th>duration</th>\n",
       "      <th>campaign</th>\n",
       "      <th>pdays</th>\n",
       "      <th>previous</th>\n",
       "      <th>EmpVarRate</th>\n",
       "      <th>ConsPriceIndx</th>\n",
       "      <th>ConsConfIndx</th>\n",
       "      <th>euribor3m</th>\n",
       "      <th>NrEmployed</th>\n",
       "    </tr>\n",
       "  </thead>\n",
       "  <tbody>\n",
       "    <tr>\n",
       "      <th>age</th>\n",
       "      <td>1.000000</td>\n",
       "      <td>-0.000866</td>\n",
       "      <td>0.004594</td>\n",
       "      <td>-0.034369</td>\n",
       "      <td>0.024365</td>\n",
       "      <td>-0.000371</td>\n",
       "      <td>0.000857</td>\n",
       "      <td>0.129372</td>\n",
       "      <td>0.010767</td>\n",
       "      <td>-0.017725</td>\n",
       "    </tr>\n",
       "    <tr>\n",
       "      <th>duration</th>\n",
       "      <td>-0.000866</td>\n",
       "      <td>1.000000</td>\n",
       "      <td>-0.071699</td>\n",
       "      <td>-0.047577</td>\n",
       "      <td>0.020640</td>\n",
       "      <td>-0.027968</td>\n",
       "      <td>0.005312</td>\n",
       "      <td>-0.008173</td>\n",
       "      <td>-0.032897</td>\n",
       "      <td>-0.044703</td>\n",
       "    </tr>\n",
       "    <tr>\n",
       "      <th>campaign</th>\n",
       "      <td>0.004594</td>\n",
       "      <td>-0.071699</td>\n",
       "      <td>1.000000</td>\n",
       "      <td>0.052584</td>\n",
       "      <td>-0.079141</td>\n",
       "      <td>0.150754</td>\n",
       "      <td>0.127836</td>\n",
       "      <td>-0.013733</td>\n",
       "      <td>0.135133</td>\n",
       "      <td>0.144095</td>\n",
       "    </tr>\n",
       "    <tr>\n",
       "      <th>pdays</th>\n",
       "      <td>-0.034369</td>\n",
       "      <td>-0.047577</td>\n",
       "      <td>0.052584</td>\n",
       "      <td>1.000000</td>\n",
       "      <td>-0.587514</td>\n",
       "      <td>0.271004</td>\n",
       "      <td>0.078889</td>\n",
       "      <td>-0.091342</td>\n",
       "      <td>0.296899</td>\n",
       "      <td>0.372605</td>\n",
       "    </tr>\n",
       "    <tr>\n",
       "      <th>previous</th>\n",
       "      <td>0.024365</td>\n",
       "      <td>0.020640</td>\n",
       "      <td>-0.079141</td>\n",
       "      <td>-0.587514</td>\n",
       "      <td>1.000000</td>\n",
       "      <td>-0.420489</td>\n",
       "      <td>-0.203130</td>\n",
       "      <td>-0.050936</td>\n",
       "      <td>-0.454494</td>\n",
       "      <td>-0.501333</td>\n",
       "    </tr>\n",
       "    <tr>\n",
       "      <th>EmpVarRate</th>\n",
       "      <td>-0.000371</td>\n",
       "      <td>-0.027968</td>\n",
       "      <td>0.150754</td>\n",
       "      <td>0.271004</td>\n",
       "      <td>-0.420489</td>\n",
       "      <td>1.000000</td>\n",
       "      <td>0.775334</td>\n",
       "      <td>0.196041</td>\n",
       "      <td>0.972245</td>\n",
       "      <td>0.906970</td>\n",
       "    </tr>\n",
       "    <tr>\n",
       "      <th>ConsPriceIndx</th>\n",
       "      <td>0.000857</td>\n",
       "      <td>0.005312</td>\n",
       "      <td>0.127836</td>\n",
       "      <td>0.078889</td>\n",
       "      <td>-0.203130</td>\n",
       "      <td>0.775334</td>\n",
       "      <td>1.000000</td>\n",
       "      <td>0.058986</td>\n",
       "      <td>0.688230</td>\n",
       "      <td>0.522034</td>\n",
       "    </tr>\n",
       "    <tr>\n",
       "      <th>ConsConfIndx</th>\n",
       "      <td>0.129372</td>\n",
       "      <td>-0.008173</td>\n",
       "      <td>-0.013733</td>\n",
       "      <td>-0.091342</td>\n",
       "      <td>-0.050936</td>\n",
       "      <td>0.196041</td>\n",
       "      <td>0.058986</td>\n",
       "      <td>1.000000</td>\n",
       "      <td>0.277686</td>\n",
       "      <td>0.100513</td>\n",
       "    </tr>\n",
       "    <tr>\n",
       "      <th>euribor3m</th>\n",
       "      <td>0.010767</td>\n",
       "      <td>-0.032897</td>\n",
       "      <td>0.135133</td>\n",
       "      <td>0.296899</td>\n",
       "      <td>-0.454494</td>\n",
       "      <td>0.972245</td>\n",
       "      <td>0.688230</td>\n",
       "      <td>0.277686</td>\n",
       "      <td>1.000000</td>\n",
       "      <td>0.945154</td>\n",
       "    </tr>\n",
       "    <tr>\n",
       "      <th>NrEmployed</th>\n",
       "      <td>-0.017725</td>\n",
       "      <td>-0.044703</td>\n",
       "      <td>0.144095</td>\n",
       "      <td>0.372605</td>\n",
       "      <td>-0.501333</td>\n",
       "      <td>0.906970</td>\n",
       "      <td>0.522034</td>\n",
       "      <td>0.100513</td>\n",
       "      <td>0.945154</td>\n",
       "      <td>1.000000</td>\n",
       "    </tr>\n",
       "  </tbody>\n",
       "</table>\n",
       "</div>"
      ],
      "text/plain": [
       "                    age  duration  campaign     pdays  previous  EmpVarRate  \\\n",
       "age            1.000000 -0.000866  0.004594 -0.034369  0.024365   -0.000371   \n",
       "duration      -0.000866  1.000000 -0.071699 -0.047577  0.020640   -0.027968   \n",
       "campaign       0.004594 -0.071699  1.000000  0.052584 -0.079141    0.150754   \n",
       "pdays         -0.034369 -0.047577  0.052584  1.000000 -0.587514    0.271004   \n",
       "previous       0.024365  0.020640 -0.079141 -0.587514  1.000000   -0.420489   \n",
       "EmpVarRate    -0.000371 -0.027968  0.150754  0.271004 -0.420489    1.000000   \n",
       "ConsPriceIndx  0.000857  0.005312  0.127836  0.078889 -0.203130    0.775334   \n",
       "ConsConfIndx   0.129372 -0.008173 -0.013733 -0.091342 -0.050936    0.196041   \n",
       "euribor3m      0.010767 -0.032897  0.135133  0.296899 -0.454494    0.972245   \n",
       "NrEmployed    -0.017725 -0.044703  0.144095  0.372605 -0.501333    0.906970   \n",
       "\n",
       "               ConsPriceIndx  ConsConfIndx  euribor3m  NrEmployed  \n",
       "age                 0.000857      0.129372   0.010767   -0.017725  \n",
       "duration            0.005312     -0.008173  -0.032897   -0.044703  \n",
       "campaign            0.127836     -0.013733   0.135133    0.144095  \n",
       "pdays               0.078889     -0.091342   0.296899    0.372605  \n",
       "previous           -0.203130     -0.050936  -0.454494   -0.501333  \n",
       "EmpVarRate          0.775334      0.196041   0.972245    0.906970  \n",
       "ConsPriceIndx       1.000000      0.058986   0.688230    0.522034  \n",
       "ConsConfIndx        0.058986      1.000000   0.277686    0.100513  \n",
       "euribor3m           0.688230      0.277686   1.000000    0.945154  \n",
       "NrEmployed          0.522034      0.100513   0.945154    1.000000  "
      ]
     },
     "execution_count": 43,
     "metadata": {},
     "output_type": "execute_result"
    }
   ],
   "source": [
    "#performing pearson coefficient\n",
    "numeric_features = [t[0] for t in df.dtypes if t[1] != 'string']\n",
    "numeric_features_df=df.select(numeric_features)\n",
    "col_names =numeric_features_df.columns\n",
    "features = numeric_features_df.rdd.map(lambda row: row[0:])\n",
    "corr_mat=Statistics.corr(features, method=\"pearson\")\n",
    "corr_df = pd.DataFrame(corr_mat)\n",
    "corr_df.index, corr_df.columns = col_names, col_names\n",
    "\n",
    "corr_df"
   ]
  },
  {
   "cell_type": "markdown",
   "id": "c25548aa",
   "metadata": {},
   "source": [
    "#### EmpVarRate and NrEmployed highly correlated\n",
    "#### euribor3m and NrEmployed highly correlated"
   ]
  },
  {
   "cell_type": "markdown",
   "id": "0cc911ea",
   "metadata": {},
   "source": [
    "### Age Binning "
   ]
  },
  {
   "cell_type": "code",
   "execution_count": 44,
   "id": "6b9ef1c4",
   "metadata": {},
   "outputs": [],
   "source": [
    "def udf_multiple(age):\n",
    "      if (age <= 25):\n",
    "        return 'Under 25'\n",
    "      elif (age >= 25 and age <= 35):\n",
    "        return 'Between 25 and 35'\n",
    "      elif (age > 35 and age < 50):\n",
    "        return 'Between 36 and 49'\n",
    "      elif (age >= 50):\n",
    "        return 'Over 50'\n",
    "      else: return 'N/A'\n",
    "\n",
    "age_udf = udf(udf_multiple)\n",
    "df=df.withColumn(\"Age_udf\", age_udf('age')).drop('age')"
   ]
  },
  {
   "cell_type": "code",
   "execution_count": 45,
   "id": "da0ab274",
   "metadata": {},
   "outputs": [
    {
     "name": "stdout",
     "output_type": "stream",
     "text": [
      "+-----------------+-----+\n",
      "|          Age_udf|count|\n",
      "+-----------------+-----+\n",
      "|Between 25 and 35|14847|\n",
      "|         Under 25| 1666|\n",
      "|Between 36 and 49|16620|\n",
      "|          Over 50| 8055|\n",
      "+-----------------+-----+\n",
      "\n"
     ]
    }
   ],
   "source": [
    "df.groupby(\"Age_udf\").count().show()"
   ]
  },
  {
   "cell_type": "code",
   "execution_count": 46,
   "id": "84ab8b2f",
   "metadata": {},
   "outputs": [
    {
     "data": {
      "text/html": [
       "<div>\n",
       "<style scoped>\n",
       "    .dataframe tbody tr th:only-of-type {\n",
       "        vertical-align: middle;\n",
       "    }\n",
       "\n",
       "    .dataframe tbody tr th {\n",
       "        vertical-align: top;\n",
       "    }\n",
       "\n",
       "    .dataframe thead th {\n",
       "        text-align: right;\n",
       "    }\n",
       "</style>\n",
       "<table border=\"1\" class=\"dataframe\">\n",
       "  <thead>\n",
       "    <tr style=\"text-align: right;\">\n",
       "      <th></th>\n",
       "      <th>job</th>\n",
       "      <th>marital</th>\n",
       "      <th>education</th>\n",
       "      <th>default</th>\n",
       "      <th>housing</th>\n",
       "      <th>loan</th>\n",
       "      <th>contact</th>\n",
       "      <th>month</th>\n",
       "      <th>day_of_week</th>\n",
       "      <th>duration</th>\n",
       "      <th>...</th>\n",
       "      <th>pdays</th>\n",
       "      <th>previous</th>\n",
       "      <th>poutcome</th>\n",
       "      <th>EmpVarRate</th>\n",
       "      <th>ConsPriceIndx</th>\n",
       "      <th>ConsConfIndx</th>\n",
       "      <th>euribor3m</th>\n",
       "      <th>NrEmployed</th>\n",
       "      <th>y</th>\n",
       "      <th>Age_udf</th>\n",
       "    </tr>\n",
       "  </thead>\n",
       "  <tbody>\n",
       "    <tr>\n",
       "      <th>0</th>\n",
       "      <td>housemaid</td>\n",
       "      <td>married</td>\n",
       "      <td>basic.4y</td>\n",
       "      <td>no</td>\n",
       "      <td>no</td>\n",
       "      <td>no</td>\n",
       "      <td>telephone</td>\n",
       "      <td>may</td>\n",
       "      <td>mon</td>\n",
       "      <td>261</td>\n",
       "      <td>...</td>\n",
       "      <td>999</td>\n",
       "      <td>0</td>\n",
       "      <td>nonexistent</td>\n",
       "      <td>1.1</td>\n",
       "      <td>93.994</td>\n",
       "      <td>-36.4</td>\n",
       "      <td>4.857</td>\n",
       "      <td>5191.0</td>\n",
       "      <td>no</td>\n",
       "      <td>Over 50</td>\n",
       "    </tr>\n",
       "    <tr>\n",
       "      <th>1</th>\n",
       "      <td>services</td>\n",
       "      <td>married</td>\n",
       "      <td>high.school</td>\n",
       "      <td>unknown</td>\n",
       "      <td>no</td>\n",
       "      <td>no</td>\n",
       "      <td>telephone</td>\n",
       "      <td>may</td>\n",
       "      <td>mon</td>\n",
       "      <td>149</td>\n",
       "      <td>...</td>\n",
       "      <td>999</td>\n",
       "      <td>0</td>\n",
       "      <td>nonexistent</td>\n",
       "      <td>1.1</td>\n",
       "      <td>93.994</td>\n",
       "      <td>-36.4</td>\n",
       "      <td>4.857</td>\n",
       "      <td>5191.0</td>\n",
       "      <td>no</td>\n",
       "      <td>Over 50</td>\n",
       "    </tr>\n",
       "    <tr>\n",
       "      <th>2</th>\n",
       "      <td>services</td>\n",
       "      <td>married</td>\n",
       "      <td>high.school</td>\n",
       "      <td>no</td>\n",
       "      <td>yes</td>\n",
       "      <td>no</td>\n",
       "      <td>telephone</td>\n",
       "      <td>may</td>\n",
       "      <td>mon</td>\n",
       "      <td>226</td>\n",
       "      <td>...</td>\n",
       "      <td>999</td>\n",
       "      <td>0</td>\n",
       "      <td>nonexistent</td>\n",
       "      <td>1.1</td>\n",
       "      <td>93.994</td>\n",
       "      <td>-36.4</td>\n",
       "      <td>4.857</td>\n",
       "      <td>5191.0</td>\n",
       "      <td>no</td>\n",
       "      <td>Between 36 and 49</td>\n",
       "    </tr>\n",
       "    <tr>\n",
       "      <th>3</th>\n",
       "      <td>admin.</td>\n",
       "      <td>married</td>\n",
       "      <td>basic.6y</td>\n",
       "      <td>no</td>\n",
       "      <td>no</td>\n",
       "      <td>no</td>\n",
       "      <td>telephone</td>\n",
       "      <td>may</td>\n",
       "      <td>mon</td>\n",
       "      <td>151</td>\n",
       "      <td>...</td>\n",
       "      <td>999</td>\n",
       "      <td>0</td>\n",
       "      <td>nonexistent</td>\n",
       "      <td>1.1</td>\n",
       "      <td>93.994</td>\n",
       "      <td>-36.4</td>\n",
       "      <td>4.857</td>\n",
       "      <td>5191.0</td>\n",
       "      <td>no</td>\n",
       "      <td>Between 36 and 49</td>\n",
       "    </tr>\n",
       "    <tr>\n",
       "      <th>4</th>\n",
       "      <td>services</td>\n",
       "      <td>married</td>\n",
       "      <td>high.school</td>\n",
       "      <td>no</td>\n",
       "      <td>no</td>\n",
       "      <td>yes</td>\n",
       "      <td>telephone</td>\n",
       "      <td>may</td>\n",
       "      <td>mon</td>\n",
       "      <td>307</td>\n",
       "      <td>...</td>\n",
       "      <td>999</td>\n",
       "      <td>0</td>\n",
       "      <td>nonexistent</td>\n",
       "      <td>1.1</td>\n",
       "      <td>93.994</td>\n",
       "      <td>-36.4</td>\n",
       "      <td>4.857</td>\n",
       "      <td>5191.0</td>\n",
       "      <td>no</td>\n",
       "      <td>Over 50</td>\n",
       "    </tr>\n",
       "    <tr>\n",
       "      <th>...</th>\n",
       "      <td>...</td>\n",
       "      <td>...</td>\n",
       "      <td>...</td>\n",
       "      <td>...</td>\n",
       "      <td>...</td>\n",
       "      <td>...</td>\n",
       "      <td>...</td>\n",
       "      <td>...</td>\n",
       "      <td>...</td>\n",
       "      <td>...</td>\n",
       "      <td>...</td>\n",
       "      <td>...</td>\n",
       "      <td>...</td>\n",
       "      <td>...</td>\n",
       "      <td>...</td>\n",
       "      <td>...</td>\n",
       "      <td>...</td>\n",
       "      <td>...</td>\n",
       "      <td>...</td>\n",
       "      <td>...</td>\n",
       "      <td>...</td>\n",
       "    </tr>\n",
       "    <tr>\n",
       "      <th>41183</th>\n",
       "      <td>retired</td>\n",
       "      <td>married</td>\n",
       "      <td>professional.course</td>\n",
       "      <td>no</td>\n",
       "      <td>yes</td>\n",
       "      <td>no</td>\n",
       "      <td>cellular</td>\n",
       "      <td>nov</td>\n",
       "      <td>fri</td>\n",
       "      <td>334</td>\n",
       "      <td>...</td>\n",
       "      <td>999</td>\n",
       "      <td>0</td>\n",
       "      <td>nonexistent</td>\n",
       "      <td>-1.1</td>\n",
       "      <td>94.767</td>\n",
       "      <td>-50.8</td>\n",
       "      <td>1.028</td>\n",
       "      <td>4963.6</td>\n",
       "      <td>yes</td>\n",
       "      <td>Over 50</td>\n",
       "    </tr>\n",
       "    <tr>\n",
       "      <th>41184</th>\n",
       "      <td>blue-collar</td>\n",
       "      <td>married</td>\n",
       "      <td>professional.course</td>\n",
       "      <td>no</td>\n",
       "      <td>no</td>\n",
       "      <td>no</td>\n",
       "      <td>cellular</td>\n",
       "      <td>nov</td>\n",
       "      <td>fri</td>\n",
       "      <td>383</td>\n",
       "      <td>...</td>\n",
       "      <td>999</td>\n",
       "      <td>0</td>\n",
       "      <td>nonexistent</td>\n",
       "      <td>-1.1</td>\n",
       "      <td>94.767</td>\n",
       "      <td>-50.8</td>\n",
       "      <td>1.028</td>\n",
       "      <td>4963.6</td>\n",
       "      <td>no</td>\n",
       "      <td>Between 36 and 49</td>\n",
       "    </tr>\n",
       "    <tr>\n",
       "      <th>41185</th>\n",
       "      <td>retired</td>\n",
       "      <td>married</td>\n",
       "      <td>university.degree</td>\n",
       "      <td>no</td>\n",
       "      <td>yes</td>\n",
       "      <td>no</td>\n",
       "      <td>cellular</td>\n",
       "      <td>nov</td>\n",
       "      <td>fri</td>\n",
       "      <td>189</td>\n",
       "      <td>...</td>\n",
       "      <td>999</td>\n",
       "      <td>0</td>\n",
       "      <td>nonexistent</td>\n",
       "      <td>-1.1</td>\n",
       "      <td>94.767</td>\n",
       "      <td>-50.8</td>\n",
       "      <td>1.028</td>\n",
       "      <td>4963.6</td>\n",
       "      <td>no</td>\n",
       "      <td>Over 50</td>\n",
       "    </tr>\n",
       "    <tr>\n",
       "      <th>41186</th>\n",
       "      <td>technician</td>\n",
       "      <td>married</td>\n",
       "      <td>professional.course</td>\n",
       "      <td>no</td>\n",
       "      <td>no</td>\n",
       "      <td>no</td>\n",
       "      <td>cellular</td>\n",
       "      <td>nov</td>\n",
       "      <td>fri</td>\n",
       "      <td>442</td>\n",
       "      <td>...</td>\n",
       "      <td>999</td>\n",
       "      <td>0</td>\n",
       "      <td>nonexistent</td>\n",
       "      <td>-1.1</td>\n",
       "      <td>94.767</td>\n",
       "      <td>-50.8</td>\n",
       "      <td>1.028</td>\n",
       "      <td>4963.6</td>\n",
       "      <td>yes</td>\n",
       "      <td>Between 36 and 49</td>\n",
       "    </tr>\n",
       "    <tr>\n",
       "      <th>41187</th>\n",
       "      <td>retired</td>\n",
       "      <td>married</td>\n",
       "      <td>professional.course</td>\n",
       "      <td>no</td>\n",
       "      <td>yes</td>\n",
       "      <td>no</td>\n",
       "      <td>cellular</td>\n",
       "      <td>nov</td>\n",
       "      <td>fri</td>\n",
       "      <td>239</td>\n",
       "      <td>...</td>\n",
       "      <td>999</td>\n",
       "      <td>1</td>\n",
       "      <td>failure</td>\n",
       "      <td>-1.1</td>\n",
       "      <td>94.767</td>\n",
       "      <td>-50.8</td>\n",
       "      <td>1.028</td>\n",
       "      <td>4963.6</td>\n",
       "      <td>no</td>\n",
       "      <td>Over 50</td>\n",
       "    </tr>\n",
       "  </tbody>\n",
       "</table>\n",
       "<p>41188 rows × 21 columns</p>\n",
       "</div>"
      ],
      "text/plain": [
       "               job  marital            education  default housing loan  \\\n",
       "0        housemaid  married             basic.4y       no      no   no   \n",
       "1         services  married          high.school  unknown      no   no   \n",
       "2         services  married          high.school       no     yes   no   \n",
       "3           admin.  married             basic.6y       no      no   no   \n",
       "4         services  married          high.school       no      no  yes   \n",
       "...            ...      ...                  ...      ...     ...  ...   \n",
       "41183      retired  married  professional.course       no     yes   no   \n",
       "41184  blue-collar  married  professional.course       no      no   no   \n",
       "41185      retired  married    university.degree       no     yes   no   \n",
       "41186   technician  married  professional.course       no      no   no   \n",
       "41187      retired  married  professional.course       no     yes   no   \n",
       "\n",
       "         contact month day_of_week  duration  ...  pdays  previous  \\\n",
       "0      telephone   may         mon       261  ...    999         0   \n",
       "1      telephone   may         mon       149  ...    999         0   \n",
       "2      telephone   may         mon       226  ...    999         0   \n",
       "3      telephone   may         mon       151  ...    999         0   \n",
       "4      telephone   may         mon       307  ...    999         0   \n",
       "...          ...   ...         ...       ...  ...    ...       ...   \n",
       "41183   cellular   nov         fri       334  ...    999         0   \n",
       "41184   cellular   nov         fri       383  ...    999         0   \n",
       "41185   cellular   nov         fri       189  ...    999         0   \n",
       "41186   cellular   nov         fri       442  ...    999         0   \n",
       "41187   cellular   nov         fri       239  ...    999         1   \n",
       "\n",
       "          poutcome EmpVarRate  ConsPriceIndx  ConsConfIndx  euribor3m  \\\n",
       "0      nonexistent        1.1         93.994         -36.4      4.857   \n",
       "1      nonexistent        1.1         93.994         -36.4      4.857   \n",
       "2      nonexistent        1.1         93.994         -36.4      4.857   \n",
       "3      nonexistent        1.1         93.994         -36.4      4.857   \n",
       "4      nonexistent        1.1         93.994         -36.4      4.857   \n",
       "...            ...        ...            ...           ...        ...   \n",
       "41183  nonexistent       -1.1         94.767         -50.8      1.028   \n",
       "41184  nonexistent       -1.1         94.767         -50.8      1.028   \n",
       "41185  nonexistent       -1.1         94.767         -50.8      1.028   \n",
       "41186  nonexistent       -1.1         94.767         -50.8      1.028   \n",
       "41187      failure       -1.1         94.767         -50.8      1.028   \n",
       "\n",
       "       NrEmployed    y            Age_udf  \n",
       "0          5191.0   no            Over 50  \n",
       "1          5191.0   no            Over 50  \n",
       "2          5191.0   no  Between 36 and 49  \n",
       "3          5191.0   no  Between 36 and 49  \n",
       "4          5191.0   no            Over 50  \n",
       "...           ...  ...                ...  \n",
       "41183      4963.6  yes            Over 50  \n",
       "41184      4963.6   no  Between 36 and 49  \n",
       "41185      4963.6   no            Over 50  \n",
       "41186      4963.6  yes  Between 36 and 49  \n",
       "41187      4963.6   no            Over 50  \n",
       "\n",
       "[41188 rows x 21 columns]"
      ]
     },
     "execution_count": 46,
     "metadata": {},
     "output_type": "execute_result"
    }
   ],
   "source": [
    "df.toPandas()"
   ]
  },
  {
   "cell_type": "markdown",
   "id": "ee9d9f36",
   "metadata": {},
   "source": [
    "### String Index Found this code\n",
    "https://stackoverflow.com/questions/36942233/apply-stringindexer-to-several-columns-in-a-pyspark-dataframe"
   ]
  },
  {
   "cell_type": "code",
   "execution_count": 47,
   "id": "19a6698e",
   "metadata": {},
   "outputs": [],
   "source": [
    "#create a list of the columns that are string typed\n",
    "categoricalColumns = [item[0] for item in df.dtypes if item[1].startswith('string') ]\n",
    "\n",
    "#define a list of stages in your pipeline. The string indexer will be one stage\n",
    "stages = []\n",
    "\n",
    "#iterate through all categorical values\n",
    "for categoricalCol in categoricalColumns:\n",
    "    #create a string indexer for those categorical values and assign a new name including the word 'Index'\n",
    "    stringIndexer = StringIndexer(inputCol = categoricalCol, outputCol = categoricalCol + 'Index')\n",
    "\n",
    "    #append the string Indexer to our list of stages\n",
    "    stages += [stringIndexer]\n",
    "\n",
    "#Create the pipeline. Assign the satges list to the pipeline key word stages\n",
    "pipeline = Pipeline(stages = stages)\n",
    "#fit the pipeline to our dataframe\n",
    "pipelineModel = pipeline.fit(df)\n",
    "#transform the dataframe\n",
    "df= pipelineModel.transform(df)"
   ]
  },
  {
   "cell_type": "code",
   "execution_count": 48,
   "id": "319ebed3",
   "metadata": {},
   "outputs": [
    {
     "data": {
      "text/html": [
       "<div>\n",
       "<style scoped>\n",
       "    .dataframe tbody tr th:only-of-type {\n",
       "        vertical-align: middle;\n",
       "    }\n",
       "\n",
       "    .dataframe tbody tr th {\n",
       "        vertical-align: top;\n",
       "    }\n",
       "\n",
       "    .dataframe thead th {\n",
       "        text-align: right;\n",
       "    }\n",
       "</style>\n",
       "<table border=\"1\" class=\"dataframe\">\n",
       "  <thead>\n",
       "    <tr style=\"text-align: right;\">\n",
       "      <th></th>\n",
       "      <th>job</th>\n",
       "      <th>marital</th>\n",
       "      <th>education</th>\n",
       "      <th>default</th>\n",
       "      <th>housing</th>\n",
       "      <th>loan</th>\n",
       "      <th>contact</th>\n",
       "      <th>month</th>\n",
       "      <th>day_of_week</th>\n",
       "      <th>duration</th>\n",
       "      <th>...</th>\n",
       "      <th>maritalIndex</th>\n",
       "      <th>educationIndex</th>\n",
       "      <th>defaultIndex</th>\n",
       "      <th>housingIndex</th>\n",
       "      <th>loanIndex</th>\n",
       "      <th>contactIndex</th>\n",
       "      <th>monthIndex</th>\n",
       "      <th>day_of_weekIndex</th>\n",
       "      <th>poutcomeIndex</th>\n",
       "      <th>Age_udfIndex</th>\n",
       "    </tr>\n",
       "  </thead>\n",
       "  <tbody>\n",
       "    <tr>\n",
       "      <th>0</th>\n",
       "      <td>housemaid</td>\n",
       "      <td>married</td>\n",
       "      <td>basic.4y</td>\n",
       "      <td>no</td>\n",
       "      <td>no</td>\n",
       "      <td>no</td>\n",
       "      <td>telephone</td>\n",
       "      <td>may</td>\n",
       "      <td>mon</td>\n",
       "      <td>261</td>\n",
       "      <td>...</td>\n",
       "      <td>0.0</td>\n",
       "      <td>4.0</td>\n",
       "      <td>0.0</td>\n",
       "      <td>1.0</td>\n",
       "      <td>0.0</td>\n",
       "      <td>1.0</td>\n",
       "      <td>0.0</td>\n",
       "      <td>1.0</td>\n",
       "      <td>0.0</td>\n",
       "      <td>2.0</td>\n",
       "    </tr>\n",
       "    <tr>\n",
       "      <th>1</th>\n",
       "      <td>services</td>\n",
       "      <td>married</td>\n",
       "      <td>high.school</td>\n",
       "      <td>unknown</td>\n",
       "      <td>no</td>\n",
       "      <td>no</td>\n",
       "      <td>telephone</td>\n",
       "      <td>may</td>\n",
       "      <td>mon</td>\n",
       "      <td>149</td>\n",
       "      <td>...</td>\n",
       "      <td>0.0</td>\n",
       "      <td>1.0</td>\n",
       "      <td>1.0</td>\n",
       "      <td>1.0</td>\n",
       "      <td>0.0</td>\n",
       "      <td>1.0</td>\n",
       "      <td>0.0</td>\n",
       "      <td>1.0</td>\n",
       "      <td>0.0</td>\n",
       "      <td>2.0</td>\n",
       "    </tr>\n",
       "    <tr>\n",
       "      <th>2</th>\n",
       "      <td>services</td>\n",
       "      <td>married</td>\n",
       "      <td>high.school</td>\n",
       "      <td>no</td>\n",
       "      <td>yes</td>\n",
       "      <td>no</td>\n",
       "      <td>telephone</td>\n",
       "      <td>may</td>\n",
       "      <td>mon</td>\n",
       "      <td>226</td>\n",
       "      <td>...</td>\n",
       "      <td>0.0</td>\n",
       "      <td>1.0</td>\n",
       "      <td>0.0</td>\n",
       "      <td>0.0</td>\n",
       "      <td>0.0</td>\n",
       "      <td>1.0</td>\n",
       "      <td>0.0</td>\n",
       "      <td>1.0</td>\n",
       "      <td>0.0</td>\n",
       "      <td>0.0</td>\n",
       "    </tr>\n",
       "    <tr>\n",
       "      <th>3</th>\n",
       "      <td>admin.</td>\n",
       "      <td>married</td>\n",
       "      <td>basic.6y</td>\n",
       "      <td>no</td>\n",
       "      <td>no</td>\n",
       "      <td>no</td>\n",
       "      <td>telephone</td>\n",
       "      <td>may</td>\n",
       "      <td>mon</td>\n",
       "      <td>151</td>\n",
       "      <td>...</td>\n",
       "      <td>0.0</td>\n",
       "      <td>5.0</td>\n",
       "      <td>0.0</td>\n",
       "      <td>1.0</td>\n",
       "      <td>0.0</td>\n",
       "      <td>1.0</td>\n",
       "      <td>0.0</td>\n",
       "      <td>1.0</td>\n",
       "      <td>0.0</td>\n",
       "      <td>0.0</td>\n",
       "    </tr>\n",
       "    <tr>\n",
       "      <th>4</th>\n",
       "      <td>services</td>\n",
       "      <td>married</td>\n",
       "      <td>high.school</td>\n",
       "      <td>no</td>\n",
       "      <td>no</td>\n",
       "      <td>yes</td>\n",
       "      <td>telephone</td>\n",
       "      <td>may</td>\n",
       "      <td>mon</td>\n",
       "      <td>307</td>\n",
       "      <td>...</td>\n",
       "      <td>0.0</td>\n",
       "      <td>1.0</td>\n",
       "      <td>0.0</td>\n",
       "      <td>1.0</td>\n",
       "      <td>1.0</td>\n",
       "      <td>1.0</td>\n",
       "      <td>0.0</td>\n",
       "      <td>1.0</td>\n",
       "      <td>0.0</td>\n",
       "      <td>2.0</td>\n",
       "    </tr>\n",
       "    <tr>\n",
       "      <th>...</th>\n",
       "      <td>...</td>\n",
       "      <td>...</td>\n",
       "      <td>...</td>\n",
       "      <td>...</td>\n",
       "      <td>...</td>\n",
       "      <td>...</td>\n",
       "      <td>...</td>\n",
       "      <td>...</td>\n",
       "      <td>...</td>\n",
       "      <td>...</td>\n",
       "      <td>...</td>\n",
       "      <td>...</td>\n",
       "      <td>...</td>\n",
       "      <td>...</td>\n",
       "      <td>...</td>\n",
       "      <td>...</td>\n",
       "      <td>...</td>\n",
       "      <td>...</td>\n",
       "      <td>...</td>\n",
       "      <td>...</td>\n",
       "      <td>...</td>\n",
       "    </tr>\n",
       "    <tr>\n",
       "      <th>41183</th>\n",
       "      <td>retired</td>\n",
       "      <td>married</td>\n",
       "      <td>professional.course</td>\n",
       "      <td>no</td>\n",
       "      <td>yes</td>\n",
       "      <td>no</td>\n",
       "      <td>cellular</td>\n",
       "      <td>nov</td>\n",
       "      <td>fri</td>\n",
       "      <td>334</td>\n",
       "      <td>...</td>\n",
       "      <td>0.0</td>\n",
       "      <td>3.0</td>\n",
       "      <td>0.0</td>\n",
       "      <td>0.0</td>\n",
       "      <td>0.0</td>\n",
       "      <td>0.0</td>\n",
       "      <td>4.0</td>\n",
       "      <td>4.0</td>\n",
       "      <td>0.0</td>\n",
       "      <td>2.0</td>\n",
       "    </tr>\n",
       "    <tr>\n",
       "      <th>41184</th>\n",
       "      <td>blue-collar</td>\n",
       "      <td>married</td>\n",
       "      <td>professional.course</td>\n",
       "      <td>no</td>\n",
       "      <td>no</td>\n",
       "      <td>no</td>\n",
       "      <td>cellular</td>\n",
       "      <td>nov</td>\n",
       "      <td>fri</td>\n",
       "      <td>383</td>\n",
       "      <td>...</td>\n",
       "      <td>0.0</td>\n",
       "      <td>3.0</td>\n",
       "      <td>0.0</td>\n",
       "      <td>1.0</td>\n",
       "      <td>0.0</td>\n",
       "      <td>0.0</td>\n",
       "      <td>4.0</td>\n",
       "      <td>4.0</td>\n",
       "      <td>0.0</td>\n",
       "      <td>0.0</td>\n",
       "    </tr>\n",
       "    <tr>\n",
       "      <th>41185</th>\n",
       "      <td>retired</td>\n",
       "      <td>married</td>\n",
       "      <td>university.degree</td>\n",
       "      <td>no</td>\n",
       "      <td>yes</td>\n",
       "      <td>no</td>\n",
       "      <td>cellular</td>\n",
       "      <td>nov</td>\n",
       "      <td>fri</td>\n",
       "      <td>189</td>\n",
       "      <td>...</td>\n",
       "      <td>0.0</td>\n",
       "      <td>0.0</td>\n",
       "      <td>0.0</td>\n",
       "      <td>0.0</td>\n",
       "      <td>0.0</td>\n",
       "      <td>0.0</td>\n",
       "      <td>4.0</td>\n",
       "      <td>4.0</td>\n",
       "      <td>0.0</td>\n",
       "      <td>2.0</td>\n",
       "    </tr>\n",
       "    <tr>\n",
       "      <th>41186</th>\n",
       "      <td>technician</td>\n",
       "      <td>married</td>\n",
       "      <td>professional.course</td>\n",
       "      <td>no</td>\n",
       "      <td>no</td>\n",
       "      <td>no</td>\n",
       "      <td>cellular</td>\n",
       "      <td>nov</td>\n",
       "      <td>fri</td>\n",
       "      <td>442</td>\n",
       "      <td>...</td>\n",
       "      <td>0.0</td>\n",
       "      <td>3.0</td>\n",
       "      <td>0.0</td>\n",
       "      <td>1.0</td>\n",
       "      <td>0.0</td>\n",
       "      <td>0.0</td>\n",
       "      <td>4.0</td>\n",
       "      <td>4.0</td>\n",
       "      <td>0.0</td>\n",
       "      <td>0.0</td>\n",
       "    </tr>\n",
       "    <tr>\n",
       "      <th>41187</th>\n",
       "      <td>retired</td>\n",
       "      <td>married</td>\n",
       "      <td>professional.course</td>\n",
       "      <td>no</td>\n",
       "      <td>yes</td>\n",
       "      <td>no</td>\n",
       "      <td>cellular</td>\n",
       "      <td>nov</td>\n",
       "      <td>fri</td>\n",
       "      <td>239</td>\n",
       "      <td>...</td>\n",
       "      <td>0.0</td>\n",
       "      <td>3.0</td>\n",
       "      <td>0.0</td>\n",
       "      <td>0.0</td>\n",
       "      <td>0.0</td>\n",
       "      <td>0.0</td>\n",
       "      <td>4.0</td>\n",
       "      <td>4.0</td>\n",
       "      <td>1.0</td>\n",
       "      <td>2.0</td>\n",
       "    </tr>\n",
       "  </tbody>\n",
       "</table>\n",
       "<p>41188 rows × 32 columns</p>\n",
       "</div>"
      ],
      "text/plain": [
       "               job  marital            education  default housing loan  \\\n",
       "0        housemaid  married             basic.4y       no      no   no   \n",
       "1         services  married          high.school  unknown      no   no   \n",
       "2         services  married          high.school       no     yes   no   \n",
       "3           admin.  married             basic.6y       no      no   no   \n",
       "4         services  married          high.school       no      no  yes   \n",
       "...            ...      ...                  ...      ...     ...  ...   \n",
       "41183      retired  married  professional.course       no     yes   no   \n",
       "41184  blue-collar  married  professional.course       no      no   no   \n",
       "41185      retired  married    university.degree       no     yes   no   \n",
       "41186   technician  married  professional.course       no      no   no   \n",
       "41187      retired  married  professional.course       no     yes   no   \n",
       "\n",
       "         contact month day_of_week  duration  ...  maritalIndex  \\\n",
       "0      telephone   may         mon       261  ...           0.0   \n",
       "1      telephone   may         mon       149  ...           0.0   \n",
       "2      telephone   may         mon       226  ...           0.0   \n",
       "3      telephone   may         mon       151  ...           0.0   \n",
       "4      telephone   may         mon       307  ...           0.0   \n",
       "...          ...   ...         ...       ...  ...           ...   \n",
       "41183   cellular   nov         fri       334  ...           0.0   \n",
       "41184   cellular   nov         fri       383  ...           0.0   \n",
       "41185   cellular   nov         fri       189  ...           0.0   \n",
       "41186   cellular   nov         fri       442  ...           0.0   \n",
       "41187   cellular   nov         fri       239  ...           0.0   \n",
       "\n",
       "       educationIndex  defaultIndex housingIndex  loanIndex  contactIndex  \\\n",
       "0                 4.0           0.0          1.0        0.0           1.0   \n",
       "1                 1.0           1.0          1.0        0.0           1.0   \n",
       "2                 1.0           0.0          0.0        0.0           1.0   \n",
       "3                 5.0           0.0          1.0        0.0           1.0   \n",
       "4                 1.0           0.0          1.0        1.0           1.0   \n",
       "...               ...           ...          ...        ...           ...   \n",
       "41183             3.0           0.0          0.0        0.0           0.0   \n",
       "41184             3.0           0.0          1.0        0.0           0.0   \n",
       "41185             0.0           0.0          0.0        0.0           0.0   \n",
       "41186             3.0           0.0          1.0        0.0           0.0   \n",
       "41187             3.0           0.0          0.0        0.0           0.0   \n",
       "\n",
       "       monthIndex  day_of_weekIndex  poutcomeIndex Age_udfIndex  \n",
       "0             0.0               1.0            0.0          2.0  \n",
       "1             0.0               1.0            0.0          2.0  \n",
       "2             0.0               1.0            0.0          0.0  \n",
       "3             0.0               1.0            0.0          0.0  \n",
       "4             0.0               1.0            0.0          2.0  \n",
       "...           ...               ...            ...          ...  \n",
       "41183         4.0               4.0            0.0          2.0  \n",
       "41184         4.0               4.0            0.0          0.0  \n",
       "41185         4.0               4.0            0.0          2.0  \n",
       "41186         4.0               4.0            0.0          0.0  \n",
       "41187         4.0               4.0            1.0          2.0  \n",
       "\n",
       "[41188 rows x 32 columns]"
      ]
     },
     "execution_count": 48,
     "metadata": {},
     "output_type": "execute_result"
    }
   ],
   "source": [
    "df=df.drop('yIndex')\n",
    "df.toPandas()"
   ]
  },
  {
   "cell_type": "code",
   "execution_count": 49,
   "id": "1eff029c",
   "metadata": {},
   "outputs": [
    {
     "name": "stdout",
     "output_type": "stream",
     "text": [
      "root\n",
      " |-- job: string (nullable = true)\n",
      " |-- marital: string (nullable = true)\n",
      " |-- education: string (nullable = true)\n",
      " |-- default: string (nullable = true)\n",
      " |-- housing: string (nullable = true)\n",
      " |-- loan: string (nullable = true)\n",
      " |-- contact: string (nullable = true)\n",
      " |-- month: string (nullable = true)\n",
      " |-- day_of_week: string (nullable = true)\n",
      " |-- duration: integer (nullable = true)\n",
      " |-- campaign: integer (nullable = true)\n",
      " |-- pdays: integer (nullable = true)\n",
      " |-- previous: integer (nullable = true)\n",
      " |-- poutcome: string (nullable = true)\n",
      " |-- EmpVarRate: double (nullable = true)\n",
      " |-- ConsPriceIndx: double (nullable = true)\n",
      " |-- ConsConfIndx: double (nullable = true)\n",
      " |-- euribor3m: double (nullable = true)\n",
      " |-- NrEmployed: double (nullable = true)\n",
      " |-- y: string (nullable = true)\n",
      " |-- Age_udf: string (nullable = true)\n",
      " |-- jobIndex: double (nullable = false)\n",
      " |-- maritalIndex: double (nullable = false)\n",
      " |-- educationIndex: double (nullable = false)\n",
      " |-- defaultIndex: double (nullable = false)\n",
      " |-- housingIndex: double (nullable = false)\n",
      " |-- loanIndex: double (nullable = false)\n",
      " |-- contactIndex: double (nullable = false)\n",
      " |-- monthIndex: double (nullable = false)\n",
      " |-- day_of_weekIndex: double (nullable = false)\n",
      " |-- poutcomeIndex: double (nullable = false)\n",
      " |-- Age_udfIndex: double (nullable = false)\n",
      "\n"
     ]
    }
   ],
   "source": [
    "df.printSchema()"
   ]
  },
  {
   "cell_type": "markdown",
   "id": "b3b83e86",
   "metadata": {},
   "source": [
    "### One Hot Encoding"
   ]
  },
  {
   "cell_type": "code",
   "execution_count": 50,
   "id": "5dc9180a",
   "metadata": {},
   "outputs": [
    {
     "data": {
      "text/html": [
       "<div>\n",
       "<style scoped>\n",
       "    .dataframe tbody tr th:only-of-type {\n",
       "        vertical-align: middle;\n",
       "    }\n",
       "\n",
       "    .dataframe tbody tr th {\n",
       "        vertical-align: top;\n",
       "    }\n",
       "\n",
       "    .dataframe thead th {\n",
       "        text-align: right;\n",
       "    }\n",
       "</style>\n",
       "<table border=\"1\" class=\"dataframe\">\n",
       "  <thead>\n",
       "    <tr style=\"text-align: right;\">\n",
       "      <th></th>\n",
       "      <th>job</th>\n",
       "      <th>marital</th>\n",
       "      <th>education</th>\n",
       "      <th>default</th>\n",
       "      <th>housing</th>\n",
       "      <th>loan</th>\n",
       "      <th>contact</th>\n",
       "      <th>month</th>\n",
       "      <th>day_of_week</th>\n",
       "      <th>duration</th>\n",
       "      <th>...</th>\n",
       "      <th>maritalEncoded</th>\n",
       "      <th>educationEncoded</th>\n",
       "      <th>defaultEncoded</th>\n",
       "      <th>housingEncoded</th>\n",
       "      <th>loanEncoded</th>\n",
       "      <th>contactEncoded</th>\n",
       "      <th>monthEncoded</th>\n",
       "      <th>day_of_weekEncoded</th>\n",
       "      <th>poutcomeEncoded</th>\n",
       "      <th>Age_udfEncoded</th>\n",
       "    </tr>\n",
       "  </thead>\n",
       "  <tbody>\n",
       "    <tr>\n",
       "      <th>0</th>\n",
       "      <td>housemaid</td>\n",
       "      <td>married</td>\n",
       "      <td>basic.4y</td>\n",
       "      <td>no</td>\n",
       "      <td>no</td>\n",
       "      <td>no</td>\n",
       "      <td>telephone</td>\n",
       "      <td>may</td>\n",
       "      <td>mon</td>\n",
       "      <td>261</td>\n",
       "      <td>...</td>\n",
       "      <td>(1.0, 0.0, 0.0)</td>\n",
       "      <td>(0.0, 0.0, 0.0, 0.0, 1.0, 0.0, 0.0)</td>\n",
       "      <td>(1.0, 0.0)</td>\n",
       "      <td>(0.0, 1.0)</td>\n",
       "      <td>(1.0, 0.0)</td>\n",
       "      <td>(0.0)</td>\n",
       "      <td>(1.0, 0.0, 0.0, 0.0, 0.0, 0.0, 0.0, 0.0, 0.0)</td>\n",
       "      <td>(0.0, 1.0, 0.0, 0.0)</td>\n",
       "      <td>(1.0, 0.0)</td>\n",
       "      <td>(0.0, 0.0, 1.0)</td>\n",
       "    </tr>\n",
       "    <tr>\n",
       "      <th>1</th>\n",
       "      <td>services</td>\n",
       "      <td>married</td>\n",
       "      <td>high.school</td>\n",
       "      <td>unknown</td>\n",
       "      <td>no</td>\n",
       "      <td>no</td>\n",
       "      <td>telephone</td>\n",
       "      <td>may</td>\n",
       "      <td>mon</td>\n",
       "      <td>149</td>\n",
       "      <td>...</td>\n",
       "      <td>(1.0, 0.0, 0.0)</td>\n",
       "      <td>(0.0, 1.0, 0.0, 0.0, 0.0, 0.0, 0.0)</td>\n",
       "      <td>(0.0, 1.0)</td>\n",
       "      <td>(0.0, 1.0)</td>\n",
       "      <td>(1.0, 0.0)</td>\n",
       "      <td>(0.0)</td>\n",
       "      <td>(1.0, 0.0, 0.0, 0.0, 0.0, 0.0, 0.0, 0.0, 0.0)</td>\n",
       "      <td>(0.0, 1.0, 0.0, 0.0)</td>\n",
       "      <td>(1.0, 0.0)</td>\n",
       "      <td>(0.0, 0.0, 1.0)</td>\n",
       "    </tr>\n",
       "    <tr>\n",
       "      <th>2</th>\n",
       "      <td>services</td>\n",
       "      <td>married</td>\n",
       "      <td>high.school</td>\n",
       "      <td>no</td>\n",
       "      <td>yes</td>\n",
       "      <td>no</td>\n",
       "      <td>telephone</td>\n",
       "      <td>may</td>\n",
       "      <td>mon</td>\n",
       "      <td>226</td>\n",
       "      <td>...</td>\n",
       "      <td>(1.0, 0.0, 0.0)</td>\n",
       "      <td>(0.0, 1.0, 0.0, 0.0, 0.0, 0.0, 0.0)</td>\n",
       "      <td>(1.0, 0.0)</td>\n",
       "      <td>(1.0, 0.0)</td>\n",
       "      <td>(1.0, 0.0)</td>\n",
       "      <td>(0.0)</td>\n",
       "      <td>(1.0, 0.0, 0.0, 0.0, 0.0, 0.0, 0.0, 0.0, 0.0)</td>\n",
       "      <td>(0.0, 1.0, 0.0, 0.0)</td>\n",
       "      <td>(1.0, 0.0)</td>\n",
       "      <td>(1.0, 0.0, 0.0)</td>\n",
       "    </tr>\n",
       "    <tr>\n",
       "      <th>3</th>\n",
       "      <td>admin.</td>\n",
       "      <td>married</td>\n",
       "      <td>basic.6y</td>\n",
       "      <td>no</td>\n",
       "      <td>no</td>\n",
       "      <td>no</td>\n",
       "      <td>telephone</td>\n",
       "      <td>may</td>\n",
       "      <td>mon</td>\n",
       "      <td>151</td>\n",
       "      <td>...</td>\n",
       "      <td>(1.0, 0.0, 0.0)</td>\n",
       "      <td>(0.0, 0.0, 0.0, 0.0, 0.0, 1.0, 0.0)</td>\n",
       "      <td>(1.0, 0.0)</td>\n",
       "      <td>(0.0, 1.0)</td>\n",
       "      <td>(1.0, 0.0)</td>\n",
       "      <td>(0.0)</td>\n",
       "      <td>(1.0, 0.0, 0.0, 0.0, 0.0, 0.0, 0.0, 0.0, 0.0)</td>\n",
       "      <td>(0.0, 1.0, 0.0, 0.0)</td>\n",
       "      <td>(1.0, 0.0)</td>\n",
       "      <td>(1.0, 0.0, 0.0)</td>\n",
       "    </tr>\n",
       "    <tr>\n",
       "      <th>4</th>\n",
       "      <td>services</td>\n",
       "      <td>married</td>\n",
       "      <td>high.school</td>\n",
       "      <td>no</td>\n",
       "      <td>no</td>\n",
       "      <td>yes</td>\n",
       "      <td>telephone</td>\n",
       "      <td>may</td>\n",
       "      <td>mon</td>\n",
       "      <td>307</td>\n",
       "      <td>...</td>\n",
       "      <td>(1.0, 0.0, 0.0)</td>\n",
       "      <td>(0.0, 1.0, 0.0, 0.0, 0.0, 0.0, 0.0)</td>\n",
       "      <td>(1.0, 0.0)</td>\n",
       "      <td>(0.0, 1.0)</td>\n",
       "      <td>(0.0, 1.0)</td>\n",
       "      <td>(0.0)</td>\n",
       "      <td>(1.0, 0.0, 0.0, 0.0, 0.0, 0.0, 0.0, 0.0, 0.0)</td>\n",
       "      <td>(0.0, 1.0, 0.0, 0.0)</td>\n",
       "      <td>(1.0, 0.0)</td>\n",
       "      <td>(0.0, 0.0, 1.0)</td>\n",
       "    </tr>\n",
       "  </tbody>\n",
       "</table>\n",
       "<p>5 rows × 43 columns</p>\n",
       "</div>"
      ],
      "text/plain": [
       "         job  marital    education  default housing loan    contact month  \\\n",
       "0  housemaid  married     basic.4y       no      no   no  telephone   may   \n",
       "1   services  married  high.school  unknown      no   no  telephone   may   \n",
       "2   services  married  high.school       no     yes   no  telephone   may   \n",
       "3     admin.  married     basic.6y       no      no   no  telephone   may   \n",
       "4   services  married  high.school       no      no  yes  telephone   may   \n",
       "\n",
       "  day_of_week  duration  ...   maritalEncoded  \\\n",
       "0         mon       261  ...  (1.0, 0.0, 0.0)   \n",
       "1         mon       149  ...  (1.0, 0.0, 0.0)   \n",
       "2         mon       226  ...  (1.0, 0.0, 0.0)   \n",
       "3         mon       151  ...  (1.0, 0.0, 0.0)   \n",
       "4         mon       307  ...  (1.0, 0.0, 0.0)   \n",
       "\n",
       "                      educationEncoded  defaultEncoded housingEncoded  \\\n",
       "0  (0.0, 0.0, 0.0, 0.0, 1.0, 0.0, 0.0)      (1.0, 0.0)     (0.0, 1.0)   \n",
       "1  (0.0, 1.0, 0.0, 0.0, 0.0, 0.0, 0.0)      (0.0, 1.0)     (0.0, 1.0)   \n",
       "2  (0.0, 1.0, 0.0, 0.0, 0.0, 0.0, 0.0)      (1.0, 0.0)     (1.0, 0.0)   \n",
       "3  (0.0, 0.0, 0.0, 0.0, 0.0, 1.0, 0.0)      (1.0, 0.0)     (0.0, 1.0)   \n",
       "4  (0.0, 1.0, 0.0, 0.0, 0.0, 0.0, 0.0)      (1.0, 0.0)     (0.0, 1.0)   \n",
       "\n",
       "   loanEncoded  contactEncoded                                   monthEncoded  \\\n",
       "0   (1.0, 0.0)           (0.0)  (1.0, 0.0, 0.0, 0.0, 0.0, 0.0, 0.0, 0.0, 0.0)   \n",
       "1   (1.0, 0.0)           (0.0)  (1.0, 0.0, 0.0, 0.0, 0.0, 0.0, 0.0, 0.0, 0.0)   \n",
       "2   (1.0, 0.0)           (0.0)  (1.0, 0.0, 0.0, 0.0, 0.0, 0.0, 0.0, 0.0, 0.0)   \n",
       "3   (1.0, 0.0)           (0.0)  (1.0, 0.0, 0.0, 0.0, 0.0, 0.0, 0.0, 0.0, 0.0)   \n",
       "4   (0.0, 1.0)           (0.0)  (1.0, 0.0, 0.0, 0.0, 0.0, 0.0, 0.0, 0.0, 0.0)   \n",
       "\n",
       "     day_of_weekEncoded  poutcomeEncoded   Age_udfEncoded  \n",
       "0  (0.0, 1.0, 0.0, 0.0)       (1.0, 0.0)  (0.0, 0.0, 1.0)  \n",
       "1  (0.0, 1.0, 0.0, 0.0)       (1.0, 0.0)  (0.0, 0.0, 1.0)  \n",
       "2  (0.0, 1.0, 0.0, 0.0)       (1.0, 0.0)  (1.0, 0.0, 0.0)  \n",
       "3  (0.0, 1.0, 0.0, 0.0)       (1.0, 0.0)  (1.0, 0.0, 0.0)  \n",
       "4  (0.0, 1.0, 0.0, 0.0)       (1.0, 0.0)  (0.0, 0.0, 1.0)  \n",
       "\n",
       "[5 rows x 43 columns]"
      ]
     },
     "execution_count": 50,
     "metadata": {},
     "output_type": "execute_result"
    }
   ],
   "source": [
    "encoder = OneHotEncoder()\\\n",
    "         .setInputCols ([\"jobIndex\",\"maritalIndex\",\"educationIndex\",\"defaultIndex\",\"housingIndex\",\\\n",
    "                        \"loanIndex\", \"contactIndex\",\"monthIndex\",\"day_of_weekIndex\",\"poutcomeIndex\",\"Age_udfIndex\" ])\\\n",
    "         .setOutputCols ([\"jobEncoded\", \"maritalEncoded\",\"educationEncoded\",\"defaultEncoded\",\"housingEncoded\",\\\n",
    "                         \"loanEncoded\",\"contactEncoded\",\"monthEncoded\",\"day_of_weekEncoded\",\"poutcomeEncoded\",\"Age_udfEncoded\"])\n",
    "\n",
    "encoder_model=encoder.fit(df)\n",
    "encoder_df=encoder_model.transform(df)\n",
    "\n",
    "encoder_df.toPandas().head()"
   ]
  },
  {
   "cell_type": "code",
   "execution_count": 51,
   "id": "7eee017d",
   "metadata": {},
   "outputs": [],
   "source": [
    "encoder_df=encoder_df.drop(\"jobIndex\",\"maritalIndex\",\"educationIndex\",\"defaultIndex\",\"housingIndex\",\\\n",
    "                        \"loanIndex\", \"contactIndex\",\"monthIndex\",\"day_of_weekIndex\",\"poutcomeIndex\",\"Age_udfIndex\",\\\n",
    "                          \"job\",\"marital\",\"default\",\"education\",\"housing\",\"loan\",\"contact\",\"month\",\"day_of_week\",\\\n",
    "                           \"poutcome\",\"Age_udf\")\n"
   ]
  },
  {
   "cell_type": "code",
   "execution_count": 52,
   "id": "97a588ee",
   "metadata": {},
   "outputs": [
    {
     "name": "stdout",
     "output_type": "stream",
     "text": [
      "root\n",
      " |-- duration: integer (nullable = true)\n",
      " |-- campaign: integer (nullable = true)\n",
      " |-- pdays: integer (nullable = true)\n",
      " |-- previous: integer (nullable = true)\n",
      " |-- EmpVarRate: double (nullable = true)\n",
      " |-- ConsPriceIndx: double (nullable = true)\n",
      " |-- ConsConfIndx: double (nullable = true)\n",
      " |-- euribor3m: double (nullable = true)\n",
      " |-- NrEmployed: double (nullable = true)\n",
      " |-- y: string (nullable = true)\n",
      " |-- jobEncoded: vector (nullable = true)\n",
      " |-- maritalEncoded: vector (nullable = true)\n",
      " |-- educationEncoded: vector (nullable = true)\n",
      " |-- defaultEncoded: vector (nullable = true)\n",
      " |-- housingEncoded: vector (nullable = true)\n",
      " |-- loanEncoded: vector (nullable = true)\n",
      " |-- contactEncoded: vector (nullable = true)\n",
      " |-- monthEncoded: vector (nullable = true)\n",
      " |-- day_of_weekEncoded: vector (nullable = true)\n",
      " |-- poutcomeEncoded: vector (nullable = true)\n",
      " |-- Age_udfEncoded: vector (nullable = true)\n",
      "\n"
     ]
    }
   ],
   "source": [
    "encoder_df.printSchema()"
   ]
  },
  {
   "cell_type": "markdown",
   "id": "00bed956",
   "metadata": {},
   "source": [
    "### Vector Assembler"
   ]
  },
  {
   "cell_type": "code",
   "execution_count": 53,
   "id": "d988898e",
   "metadata": {},
   "outputs": [],
   "source": [
    "import pandas as pd\n",
    "pd.set_option('display.max_colwidth', 80)\n",
    "pd.set_option(\"display.max_columns\", 12)"
   ]
  },
  {
   "cell_type": "code",
   "execution_count": 54,
   "id": "b4d01c9e",
   "metadata": {},
   "outputs": [
    {
     "data": {
      "text/html": [
       "<div>\n",
       "<style scoped>\n",
       "    .dataframe tbody tr th:only-of-type {\n",
       "        vertical-align: middle;\n",
       "    }\n",
       "\n",
       "    .dataframe tbody tr th {\n",
       "        vertical-align: top;\n",
       "    }\n",
       "\n",
       "    .dataframe thead th {\n",
       "        text-align: right;\n",
       "    }\n",
       "</style>\n",
       "<table border=\"1\" class=\"dataframe\">\n",
       "  <thead>\n",
       "    <tr style=\"text-align: right;\">\n",
       "      <th></th>\n",
       "      <th>duration</th>\n",
       "      <th>campaign</th>\n",
       "      <th>pdays</th>\n",
       "      <th>previous</th>\n",
       "      <th>EmpVarRate</th>\n",
       "      <th>ConsPriceIndx</th>\n",
       "      <th>...</th>\n",
       "      <th>contactEncoded</th>\n",
       "      <th>monthEncoded</th>\n",
       "      <th>day_of_weekEncoded</th>\n",
       "      <th>poutcomeEncoded</th>\n",
       "      <th>Age_udfEncoded</th>\n",
       "      <th>vectorized_features</th>\n",
       "    </tr>\n",
       "  </thead>\n",
       "  <tbody>\n",
       "    <tr>\n",
       "      <th>0</th>\n",
       "      <td>261</td>\n",
       "      <td>1</td>\n",
       "      <td>999</td>\n",
       "      <td>0</td>\n",
       "      <td>1.1</td>\n",
       "      <td>93.994</td>\n",
       "      <td>...</td>\n",
       "      <td>(0.0)</td>\n",
       "      <td>(1.0, 0.0, 0.0, 0.0, 0.0, 0.0, 0.0, 0.0, 0.0)</td>\n",
       "      <td>(0.0, 1.0, 0.0, 0.0)</td>\n",
       "      <td>(1.0, 0.0)</td>\n",
       "      <td>(0.0, 0.0, 1.0)</td>\n",
       "      <td>(261.0, 1.0, 999.0, 0.0, 1.1, 93.994, -36.4, 4.857, 5191.0, 0.0, 0.0, 0.0, 0...</td>\n",
       "    </tr>\n",
       "    <tr>\n",
       "      <th>1</th>\n",
       "      <td>149</td>\n",
       "      <td>1</td>\n",
       "      <td>999</td>\n",
       "      <td>0</td>\n",
       "      <td>1.1</td>\n",
       "      <td>93.994</td>\n",
       "      <td>...</td>\n",
       "      <td>(0.0)</td>\n",
       "      <td>(1.0, 0.0, 0.0, 0.0, 0.0, 0.0, 0.0, 0.0, 0.0)</td>\n",
       "      <td>(0.0, 1.0, 0.0, 0.0)</td>\n",
       "      <td>(1.0, 0.0)</td>\n",
       "      <td>(0.0, 0.0, 1.0)</td>\n",
       "      <td>(149.0, 1.0, 999.0, 0.0, 1.1, 93.994, -36.4, 4.857, 5191.0, 0.0, 0.0, 0.0, 1...</td>\n",
       "    </tr>\n",
       "    <tr>\n",
       "      <th>2</th>\n",
       "      <td>226</td>\n",
       "      <td>1</td>\n",
       "      <td>999</td>\n",
       "      <td>0</td>\n",
       "      <td>1.1</td>\n",
       "      <td>93.994</td>\n",
       "      <td>...</td>\n",
       "      <td>(0.0)</td>\n",
       "      <td>(1.0, 0.0, 0.0, 0.0, 0.0, 0.0, 0.0, 0.0, 0.0)</td>\n",
       "      <td>(0.0, 1.0, 0.0, 0.0)</td>\n",
       "      <td>(1.0, 0.0)</td>\n",
       "      <td>(1.0, 0.0, 0.0)</td>\n",
       "      <td>(226.0, 1.0, 999.0, 0.0, 1.1, 93.994, -36.4, 4.857, 5191.0, 0.0, 0.0, 0.0, 1...</td>\n",
       "    </tr>\n",
       "    <tr>\n",
       "      <th>3</th>\n",
       "      <td>151</td>\n",
       "      <td>1</td>\n",
       "      <td>999</td>\n",
       "      <td>0</td>\n",
       "      <td>1.1</td>\n",
       "      <td>93.994</td>\n",
       "      <td>...</td>\n",
       "      <td>(0.0)</td>\n",
       "      <td>(1.0, 0.0, 0.0, 0.0, 0.0, 0.0, 0.0, 0.0, 0.0)</td>\n",
       "      <td>(0.0, 1.0, 0.0, 0.0)</td>\n",
       "      <td>(1.0, 0.0)</td>\n",
       "      <td>(1.0, 0.0, 0.0)</td>\n",
       "      <td>(151.0, 1.0, 999.0, 0.0, 1.1, 93.994, -36.4, 4.857, 5191.0, 1.0, 0.0, 0.0, 0...</td>\n",
       "    </tr>\n",
       "    <tr>\n",
       "      <th>4</th>\n",
       "      <td>307</td>\n",
       "      <td>1</td>\n",
       "      <td>999</td>\n",
       "      <td>0</td>\n",
       "      <td>1.1</td>\n",
       "      <td>93.994</td>\n",
       "      <td>...</td>\n",
       "      <td>(0.0)</td>\n",
       "      <td>(1.0, 0.0, 0.0, 0.0, 0.0, 0.0, 0.0, 0.0, 0.0)</td>\n",
       "      <td>(0.0, 1.0, 0.0, 0.0)</td>\n",
       "      <td>(1.0, 0.0)</td>\n",
       "      <td>(0.0, 0.0, 1.0)</td>\n",
       "      <td>(307.0, 1.0, 999.0, 0.0, 1.1, 93.994, -36.4, 4.857, 5191.0, 0.0, 0.0, 0.0, 1...</td>\n",
       "    </tr>\n",
       "  </tbody>\n",
       "</table>\n",
       "<p>5 rows × 22 columns</p>\n",
       "</div>"
      ],
      "text/plain": [
       "   duration  campaign  pdays  previous  EmpVarRate  ConsPriceIndx  ...  \\\n",
       "0       261         1    999         0         1.1         93.994  ...   \n",
       "1       149         1    999         0         1.1         93.994  ...   \n",
       "2       226         1    999         0         1.1         93.994  ...   \n",
       "3       151         1    999         0         1.1         93.994  ...   \n",
       "4       307         1    999         0         1.1         93.994  ...   \n",
       "\n",
       "   contactEncoded                                   monthEncoded  \\\n",
       "0           (0.0)  (1.0, 0.0, 0.0, 0.0, 0.0, 0.0, 0.0, 0.0, 0.0)   \n",
       "1           (0.0)  (1.0, 0.0, 0.0, 0.0, 0.0, 0.0, 0.0, 0.0, 0.0)   \n",
       "2           (0.0)  (1.0, 0.0, 0.0, 0.0, 0.0, 0.0, 0.0, 0.0, 0.0)   \n",
       "3           (0.0)  (1.0, 0.0, 0.0, 0.0, 0.0, 0.0, 0.0, 0.0, 0.0)   \n",
       "4           (0.0)  (1.0, 0.0, 0.0, 0.0, 0.0, 0.0, 0.0, 0.0, 0.0)   \n",
       "\n",
       "     day_of_weekEncoded poutcomeEncoded   Age_udfEncoded  \\\n",
       "0  (0.0, 1.0, 0.0, 0.0)      (1.0, 0.0)  (0.0, 0.0, 1.0)   \n",
       "1  (0.0, 1.0, 0.0, 0.0)      (1.0, 0.0)  (0.0, 0.0, 1.0)   \n",
       "2  (0.0, 1.0, 0.0, 0.0)      (1.0, 0.0)  (1.0, 0.0, 0.0)   \n",
       "3  (0.0, 1.0, 0.0, 0.0)      (1.0, 0.0)  (1.0, 0.0, 0.0)   \n",
       "4  (0.0, 1.0, 0.0, 0.0)      (1.0, 0.0)  (0.0, 0.0, 1.0)   \n",
       "\n",
       "                                                               vectorized_features  \n",
       "0  (261.0, 1.0, 999.0, 0.0, 1.1, 93.994, -36.4, 4.857, 5191.0, 0.0, 0.0, 0.0, 0...  \n",
       "1  (149.0, 1.0, 999.0, 0.0, 1.1, 93.994, -36.4, 4.857, 5191.0, 0.0, 0.0, 0.0, 1...  \n",
       "2  (226.0, 1.0, 999.0, 0.0, 1.1, 93.994, -36.4, 4.857, 5191.0, 0.0, 0.0, 0.0, 1...  \n",
       "3  (151.0, 1.0, 999.0, 0.0, 1.1, 93.994, -36.4, 4.857, 5191.0, 1.0, 0.0, 0.0, 0...  \n",
       "4  (307.0, 1.0, 999.0, 0.0, 1.1, 93.994, -36.4, 4.857, 5191.0, 0.0, 0.0, 0.0, 1...  \n",
       "\n",
       "[5 rows x 22 columns]"
      ]
     },
     "execution_count": 54,
     "metadata": {},
     "output_type": "execute_result"
    }
   ],
   "source": [
    "assembler = VectorAssembler()\\\n",
    "         .setInputCols ([\"duration\",\"campaign\",\"pdays\",\"previous\", \"EmpVarRate\",\"ConsPriceIndx\",\\\n",
    "                         \"ConsConfIndx\",\"euribor3m\", \"NrEmployed\",\"jobEncoded\",\"maritalEncoded\",\\\n",
    "                         \"educationEncoded\",\"defaultEncoded\",\"housingEncoded\", \"loanEncoded\",\\\n",
    "                        \"contactEncoded\", \"monthEncoded\", \"day_of_weekEncoded\",\"poutcomeEncoded\",\"Age_udfEncoded\"])\\\n",
    "         .setOutputCol (\"vectorized_features\")\n",
    "        \n",
    "# In case of missing you can skip the invalid ones\n",
    "assembler_df=assembler.setHandleInvalid(\"skip\").transform(encoder_df)\n",
    "assembler_df.toPandas().head()"
   ]
  },
  {
   "cell_type": "markdown",
   "id": "b85e9dc9",
   "metadata": {},
   "source": [
    "### Label Indexer"
   ]
  },
  {
   "cell_type": "code",
   "execution_count": 55,
   "id": "63af5108",
   "metadata": {},
   "outputs": [
    {
     "data": {
      "text/html": [
       "<div>\n",
       "<style scoped>\n",
       "    .dataframe tbody tr th:only-of-type {\n",
       "        vertical-align: middle;\n",
       "    }\n",
       "\n",
       "    .dataframe tbody tr th {\n",
       "        vertical-align: top;\n",
       "    }\n",
       "\n",
       "    .dataframe thead th {\n",
       "        text-align: right;\n",
       "    }\n",
       "</style>\n",
       "<table border=\"1\" class=\"dataframe\">\n",
       "  <thead>\n",
       "    <tr style=\"text-align: right;\">\n",
       "      <th></th>\n",
       "      <th>y</th>\n",
       "      <th>label</th>\n",
       "    </tr>\n",
       "  </thead>\n",
       "  <tbody>\n",
       "    <tr>\n",
       "      <th>0</th>\n",
       "      <td>no</td>\n",
       "      <td>0.0</td>\n",
       "    </tr>\n",
       "    <tr>\n",
       "      <th>1</th>\n",
       "      <td>no</td>\n",
       "      <td>0.0</td>\n",
       "    </tr>\n",
       "    <tr>\n",
       "      <th>2</th>\n",
       "      <td>no</td>\n",
       "      <td>0.0</td>\n",
       "    </tr>\n",
       "    <tr>\n",
       "      <th>3</th>\n",
       "      <td>no</td>\n",
       "      <td>0.0</td>\n",
       "    </tr>\n",
       "    <tr>\n",
       "      <th>4</th>\n",
       "      <td>no</td>\n",
       "      <td>0.0</td>\n",
       "    </tr>\n",
       "  </tbody>\n",
       "</table>\n",
       "</div>"
      ],
      "text/plain": [
       "    y  label\n",
       "0  no    0.0\n",
       "1  no    0.0\n",
       "2  no    0.0\n",
       "3  no    0.0\n",
       "4  no    0.0"
      ]
     },
     "execution_count": 55,
     "metadata": {},
     "output_type": "execute_result"
    }
   ],
   "source": [
    "label_indexer = StringIndexer()\\\n",
    "         .setInputCol (\"y\")\\\n",
    "         .setOutputCol (\"label\")\n",
    "\n",
    "label_indexer_model=label_indexer.fit(assembler_df)\n",
    "label_indexer_df=label_indexer_model.transform(assembler_df)\n",
    "\n",
    "label_indexer_df.select(\"y\",\"label\").toPandas().head()"
   ]
  },
  {
   "cell_type": "markdown",
   "id": "622775d0",
   "metadata": {},
   "source": [
    "### Standard Scaler"
   ]
  },
  {
   "cell_type": "code",
   "execution_count": 56,
   "id": "9ed76f1a",
   "metadata": {},
   "outputs": [
    {
     "data": {
      "text/html": [
       "<div>\n",
       "<style scoped>\n",
       "    .dataframe tbody tr th:only-of-type {\n",
       "        vertical-align: middle;\n",
       "    }\n",
       "\n",
       "    .dataframe tbody tr th {\n",
       "        vertical-align: top;\n",
       "    }\n",
       "\n",
       "    .dataframe thead th {\n",
       "        text-align: right;\n",
       "    }\n",
       "</style>\n",
       "<table border=\"1\" class=\"dataframe\">\n",
       "  <thead>\n",
       "    <tr style=\"text-align: right;\">\n",
       "      <th></th>\n",
       "      <th>vectorized_features</th>\n",
       "      <th>features</th>\n",
       "    </tr>\n",
       "  </thead>\n",
       "  <tbody>\n",
       "    <tr>\n",
       "      <th>0</th>\n",
       "      <td>(261.0, 1.0, 999.0, 0.0, 1.1, 93.994...</td>\n",
       "      <td>(1.0066366713543708, 0.3610090653030...</td>\n",
       "    </tr>\n",
       "    <tr>\n",
       "      <th>1</th>\n",
       "      <td>(149.0, 1.0, 999.0, 0.0, 1.1, 93.994...</td>\n",
       "      <td>(0.5746699771333381, 0.3610090653030...</td>\n",
       "    </tr>\n",
       "    <tr>\n",
       "      <th>2</th>\n",
       "      <td>(226.0, 1.0, 999.0, 0.0, 1.1, 93.994...</td>\n",
       "      <td>(0.8716470794102981, 0.3610090653030...</td>\n",
       "    </tr>\n",
       "    <tr>\n",
       "      <th>3</th>\n",
       "      <td>(151.0, 1.0, 999.0, 0.0, 1.1, 93.994...</td>\n",
       "      <td>(0.5823836681015708, 0.3610090653030...</td>\n",
       "    </tr>\n",
       "    <tr>\n",
       "      <th>4</th>\n",
       "      <td>(307.0, 1.0, 999.0, 0.0, 1.1, 93.994...</td>\n",
       "      <td>(1.1840515636237234, 0.3610090653030...</td>\n",
       "    </tr>\n",
       "  </tbody>\n",
       "</table>\n",
       "</div>"
      ],
      "text/plain": [
       "                       vectorized_features  \\\n",
       "0  (261.0, 1.0, 999.0, 0.0, 1.1, 93.994...   \n",
       "1  (149.0, 1.0, 999.0, 0.0, 1.1, 93.994...   \n",
       "2  (226.0, 1.0, 999.0, 0.0, 1.1, 93.994...   \n",
       "3  (151.0, 1.0, 999.0, 0.0, 1.1, 93.994...   \n",
       "4  (307.0, 1.0, 999.0, 0.0, 1.1, 93.994...   \n",
       "\n",
       "                                  features  \n",
       "0  (1.0066366713543708, 0.3610090653030...  \n",
       "1  (0.5746699771333381, 0.3610090653030...  \n",
       "2  (0.8716470794102981, 0.3610090653030...  \n",
       "3  (0.5823836681015708, 0.3610090653030...  \n",
       "4  (1.1840515636237234, 0.3610090653030...  "
      ]
     },
     "execution_count": 56,
     "metadata": {},
     "output_type": "execute_result"
    }
   ],
   "source": [
    "scaler = StandardScaler()\\\n",
    "         .setInputCol (\"vectorized_features\")\\\n",
    "         .setOutputCol (\"features\")\n",
    "        \n",
    "scaler_model=scaler.fit(label_indexer_df)\n",
    "scaler_df=scaler_model.transform(label_indexer_df)\n",
    "pd.set_option('display.max_colwidth', 40)\n",
    "scaler_df.select(\"vectorized_features\",\"features\").toPandas().head(5)"
   ]
  },
  {
   "cell_type": "code",
   "execution_count": 57,
   "id": "5e840a8c",
   "metadata": {},
   "outputs": [
    {
     "name": "stdout",
     "output_type": "stream",
     "text": [
      "root\n",
      " |-- duration: integer (nullable = true)\n",
      " |-- campaign: integer (nullable = true)\n",
      " |-- pdays: integer (nullable = true)\n",
      " |-- previous: integer (nullable = true)\n",
      " |-- EmpVarRate: double (nullable = true)\n",
      " |-- ConsPriceIndx: double (nullable = true)\n",
      " |-- ConsConfIndx: double (nullable = true)\n",
      " |-- euribor3m: double (nullable = true)\n",
      " |-- NrEmployed: double (nullable = true)\n",
      " |-- y: string (nullable = true)\n",
      " |-- jobEncoded: vector (nullable = true)\n",
      " |-- maritalEncoded: vector (nullable = true)\n",
      " |-- educationEncoded: vector (nullable = true)\n",
      " |-- defaultEncoded: vector (nullable = true)\n",
      " |-- housingEncoded: vector (nullable = true)\n",
      " |-- loanEncoded: vector (nullable = true)\n",
      " |-- contactEncoded: vector (nullable = true)\n",
      " |-- monthEncoded: vector (nullable = true)\n",
      " |-- day_of_weekEncoded: vector (nullable = true)\n",
      " |-- poutcomeEncoded: vector (nullable = true)\n",
      " |-- Age_udfEncoded: vector (nullable = true)\n",
      " |-- vectorized_features: vector (nullable = true)\n",
      " |-- label: double (nullable = false)\n",
      " |-- features: vector (nullable = true)\n",
      "\n"
     ]
    }
   ],
   "source": [
    "scaler_df.printSchema()"
   ]
  },
  {
   "cell_type": "markdown",
   "id": "2a863995",
   "metadata": {},
   "source": [
    "### Train/Test Split"
   ]
  },
  {
   "cell_type": "code",
   "execution_count": 58,
   "id": "dffcc079",
   "metadata": {},
   "outputs": [
    {
     "name": "stdout",
     "output_type": "stream",
     "text": [
      "Training Dataset Count: 32894\n",
      "Test Dataset Count: 8294\n"
     ]
    }
   ],
   "source": [
    "train, test = scaler_df.randomSplit([0.8, 0.2], seed = 2018)\n",
    "print(\"Training Dataset Count: \" + str(train.count()))\n",
    "print(\"Test Dataset Count: \" + str(test.count()))"
   ]
  },
  {
   "cell_type": "code",
   "execution_count": 59,
   "id": "285bb74b",
   "metadata": {},
   "outputs": [
    {
     "name": "stdout",
     "output_type": "stream",
     "text": [
      "+---+-----+\n",
      "|  y|count|\n",
      "+---+-----+\n",
      "| no|29154|\n",
      "|yes| 3740|\n",
      "+---+-----+\n",
      "\n",
      "+---+-----+\n",
      "|  y|count|\n",
      "+---+-----+\n",
      "| no| 7394|\n",
      "|yes|  900|\n",
      "+---+-----+\n",
      "\n"
     ]
    }
   ],
   "source": [
    "train.groupby(\"y\").count().show()\n",
    "test.groupby(\"y\").count().show()"
   ]
  },
  {
   "cell_type": "markdown",
   "id": "7d10ded3",
   "metadata": {},
   "source": [
    "### Model Training"
   ]
  },
  {
   "cell_type": "code",
   "execution_count": 60,
   "id": "d8d6e34b",
   "metadata": {},
   "outputs": [
    {
     "data": {
      "text/html": [
       "<div>\n",
       "<style scoped>\n",
       "    .dataframe tbody tr th:only-of-type {\n",
       "        vertical-align: middle;\n",
       "    }\n",
       "\n",
       "    .dataframe tbody tr th {\n",
       "        vertical-align: top;\n",
       "    }\n",
       "\n",
       "    .dataframe thead th {\n",
       "        text-align: right;\n",
       "    }\n",
       "</style>\n",
       "<table border=\"1\" class=\"dataframe\">\n",
       "  <thead>\n",
       "    <tr style=\"text-align: right;\">\n",
       "      <th></th>\n",
       "      <th>label</th>\n",
       "      <th>features</th>\n",
       "      <th>rawPrediction</th>\n",
       "      <th>prediction</th>\n",
       "      <th>probability</th>\n",
       "    </tr>\n",
       "  </thead>\n",
       "  <tbody>\n",
       "    <tr>\n",
       "      <th>0</th>\n",
       "      <td>0.0</td>\n",
       "      <td>(0.0, 1.0830271959091928, 5.34479241...</td>\n",
       "      <td>[2.7164311262425525, -2.716431126242...</td>\n",
       "      <td>0.0</td>\n",
       "      <td>[0.9379892729734995, 0.0620107270265...</td>\n",
       "    </tr>\n",
       "    <tr>\n",
       "      <th>1</th>\n",
       "      <td>0.0</td>\n",
       "      <td>(0.015427381936465452, 0.36100906530...</td>\n",
       "      <td>[3.7165228442010303, -3.716522844201...</td>\n",
       "      <td>0.0</td>\n",
       "      <td>[0.976258963737435, 0.02374103626256...</td>\n",
       "    </tr>\n",
       "    <tr>\n",
       "      <th>2</th>\n",
       "      <td>0.0</td>\n",
       "      <td>(0.015427381936465452, 1.44403626121...</td>\n",
       "      <td>[4.538781455635892, -4.538781455635892]</td>\n",
       "      <td>0.0</td>\n",
       "      <td>[0.989426571601645, 0.01057342839835...</td>\n",
       "    </tr>\n",
       "    <tr>\n",
       "      <th>3</th>\n",
       "      <td>0.0</td>\n",
       "      <td>(0.015427381936465452, 7.22018130606...</td>\n",
       "      <td>[4.218561912463805, -4.218561912463805]</td>\n",
       "      <td>0.0</td>\n",
       "      <td>[0.9854937316854745, 0.0145062683145...</td>\n",
       "    </tr>\n",
       "    <tr>\n",
       "      <th>4</th>\n",
       "      <td>0.0</td>\n",
       "      <td>(0.019284227420581817, 0.36100906530...</td>\n",
       "      <td>[4.399290758359037, -4.399290758359037]</td>\n",
       "      <td>0.0</td>\n",
       "      <td>[0.9878630644122729, 0.0121369355877...</td>\n",
       "    </tr>\n",
       "  </tbody>\n",
       "</table>\n",
       "</div>"
      ],
      "text/plain": [
       "   label                                 features  \\\n",
       "0    0.0  (0.0, 1.0830271959091928, 5.34479241...   \n",
       "1    0.0  (0.015427381936465452, 0.36100906530...   \n",
       "2    0.0  (0.015427381936465452, 1.44403626121...   \n",
       "3    0.0  (0.015427381936465452, 7.22018130606...   \n",
       "4    0.0  (0.019284227420581817, 0.36100906530...   \n",
       "\n",
       "                             rawPrediction  prediction  \\\n",
       "0  [2.7164311262425525, -2.716431126242...         0.0   \n",
       "1  [3.7165228442010303, -3.716522844201...         0.0   \n",
       "2  [4.538781455635892, -4.538781455635892]         0.0   \n",
       "3  [4.218561912463805, -4.218561912463805]         0.0   \n",
       "4  [4.399290758359037, -4.399290758359037]         0.0   \n",
       "\n",
       "                               probability  \n",
       "0  [0.9379892729734995, 0.0620107270265...  \n",
       "1  [0.976258963737435, 0.02374103626256...  \n",
       "2  [0.989426571601645, 0.01057342839835...  \n",
       "3  [0.9854937316854745, 0.0145062683145...  \n",
       "4  [0.9878630644122729, 0.0121369355877...  "
      ]
     },
     "execution_count": 60,
     "metadata": {},
     "output_type": "execute_result"
    }
   ],
   "source": [
    "from pyspark.ml.classification import LogisticRegression\n",
    "lr = LogisticRegression(featuresCol = 'features', labelCol = 'label', maxIter=5)\n",
    "lrModel = lr.fit(train)\n",
    "predictions = lrModel.transform(test)\n",
    "#predictions_train = lrModel.transform(train)\n",
    "predictions.select('label', 'features',  'rawPrediction', 'prediction', 'probability').toPandas().head(5)"
   ]
  },
  {
   "cell_type": "markdown",
   "id": "a719a727",
   "metadata": {},
   "source": [
    "# Confusion Matrix\n"
   ]
  },
  {
   "cell_type": "code",
   "execution_count": 61,
   "id": "593a0994",
   "metadata": {},
   "outputs": [],
   "source": [
    "class_names=[1.0,0.0]\n",
    "import itertools\n",
    "def plot_confusion_matrix(cm, classes,\n",
    "                          normalize=False,\n",
    "                          title='Confusion matrix',\n",
    "                          cmap=plt.cm.Blues):\n",
    "    \"\"\"\n",
    "    This function prints and plots the confusion matrix.\n",
    "    Normalization can be applied by setting `normalize=True`.\n",
    "    \"\"\"\n",
    "    if normalize:\n",
    "        cm = cm.astype('float') / cm.sum(axis=1)[:, np.newaxis]\n",
    "        print(\"Normalized confusion matrix\")\n",
    "    else:\n",
    "        print('Confusion matrix, without normalization')\n",
    "\n",
    "    print(cm)\n",
    "\n",
    "    plt.imshow(cm, interpolation='nearest', cmap=cmap)\n",
    "    plt.title(title)\n",
    "    plt.colorbar()\n",
    "    tick_marks = np.arange(len(classes))\n",
    "    plt.xticks(tick_marks, classes, rotation=45)\n",
    "    plt.yticks(tick_marks, classes)\n",
    "\n",
    "    fmt = '.2f' if normalize else 'd'\n",
    "    thresh = cm.max() / 2.\n",
    "    for i, j in itertools.product(range(cm.shape[0]), range(cm.shape[1])):\n",
    "        plt.text(j, i, format(cm[i, j], fmt),\n",
    "                 horizontalalignment=\"center\",\n",
    "                 color=\"white\" if cm[i, j] > thresh else \"black\")\n",
    "\n",
    "    plt.tight_layout()\n",
    "    plt.ylabel('True label')\n",
    "    plt.xlabel('Predicted label')"
   ]
  },
  {
   "cell_type": "code",
   "execution_count": 62,
   "id": "25aa3792",
   "metadata": {},
   "outputs": [
    {
     "name": "stdout",
     "output_type": "stream",
     "text": [
      "Confusion matrix, without normalization\n",
      "[[ 379  521]\n",
      " [ 185 7209]]\n"
     ]
    },
    {
     "data": {
      "image/png": "[encoded data removed]",
      "text/plain": [
       "<Figure size 432x288 with 2 Axes>"
      ]
     },
     "metadata": {},
     "output_type": "display_data"
    }
   ],
   "source": [
    "y_true = predictions.select(\"label\")\n",
    "y_true = y_true.toPandas()\n",
    "\n",
    "y_pred = predictions.select(\"prediction\")\n",
    "y_pred = y_pred.toPandas()\n",
    "\n",
    "cnf_matrix = confusion_matrix(y_true, y_pred,labels=class_names)\n",
    "#cnf_matrix\n",
    "plt.figure()\n",
    "plot_confusion_matrix(cnf_matrix, classes=class_names,\n",
    "                      title='Confusion matrix')\n",
    "plt.show()"
   ]
  },
  {
   "cell_type": "markdown",
   "id": "31d5ca50",
   "metadata": {},
   "source": [
    "# Accuracy"
   ]
  },
  {
   "cell_type": "code",
   "execution_count": 63,
   "id": "cf0fdc1e",
   "metadata": {},
   "outputs": [
    {
     "name": "stdout",
     "output_type": "stream",
     "text": [
      "Accuracy :  0.9148782252230528\n"
     ]
    }
   ],
   "source": [
    "accuracy = predictions.filter(predictions.label == predictions.prediction).count() / float(predictions.count())\n",
    "print(\"Accuracy : \",accuracy)"
   ]
  },
  {
   "cell_type": "code",
   "execution_count": 64,
   "id": "2e108ca2",
   "metadata": {},
   "outputs": [
    {
     "data": {
      "image/png": "[encoded data removed]",
      "text/plain": [
       "<Figure size 432x288 with 1 Axes>"
      ]
     },
     "metadata": {},
     "output_type": "display_data"
    },
    {
     "name": "stdout",
     "output_type": "stream",
     "text": [
      "Training set areaUnderROC: 0.93532126923998\n"
     ]
    }
   ],
   "source": [
    "trainingSummary = lrModel.summary\n",
    "roc = trainingSummary.roc.toPandas()\n",
    "plt.plot(roc['FPR'],roc['TPR'])\n",
    "plt.ylabel('False Positive Rate')\n",
    "plt.xlabel('True Positive Rate')\n",
    "plt.title('ROC Curve')\n",
    "plt.show()\n",
    "print('Training set areaUnderROC: ' + str(trainingSummary.areaUnderROC))"
   ]
  },
  {
   "cell_type": "code",
   "execution_count": 65,
   "id": "aae694bc",
   "metadata": {},
   "outputs": [
    {
     "name": "stdout",
     "output_type": "stream",
     "text": [
      "Test Area Under ROC 0.9369272383013261\n"
     ]
    }
   ],
   "source": [
    "from pyspark.ml.evaluation import BinaryClassificationEvaluator\n",
    "evaluator = BinaryClassificationEvaluator()\n",
    "print('Test Area Under ROC', evaluator.evaluate(predictions))"
   ]
  },
  {
   "cell_type": "code",
   "execution_count": 72,
   "id": "528b3d1f",
   "metadata": {},
   "outputs": [
    {
     "data": {
      "text/html": [
       "<div>\n",
       "<style scoped>\n",
       "    .dataframe tbody tr th:only-of-type {\n",
       "        vertical-align: middle;\n",
       "    }\n",
       "\n",
       "    .dataframe tbody tr th {\n",
       "        vertical-align: top;\n",
       "    }\n",
       "\n",
       "    .dataframe thead th {\n",
       "        text-align: right;\n",
       "    }\n",
       "</style>\n",
       "<table border=\"1\" class=\"dataframe\">\n",
       "  <thead>\n",
       "    <tr style=\"text-align: right;\">\n",
       "      <th></th>\n",
       "      <th>label</th>\n",
       "      <th>features</th>\n",
       "      <th>rawPrediction</th>\n",
       "      <th>prediction</th>\n",
       "      <th>probability</th>\n",
       "    </tr>\n",
       "  </thead>\n",
       "  <tbody>\n",
       "    <tr>\n",
       "      <th>0</th>\n",
       "      <td>0.0</td>\n",
       "      <td>(0.0, 1.0830271959091928, 5.34479241...</td>\n",
       "      <td>[1497.0, 258.0]</td>\n",
       "      <td>0.0</td>\n",
       "      <td>[0.852991452991453, 0.147008547008547]</td>\n",
       "    </tr>\n",
       "    <tr>\n",
       "      <th>1</th>\n",
       "      <td>0.0</td>\n",
       "      <td>(0.015427381936465452, 0.36100906530...</td>\n",
       "      <td>[16.0, 31.0]</td>\n",
       "      <td>1.0</td>\n",
       "      <td>[0.3404255319148936, 0.6595744680851...</td>\n",
       "    </tr>\n",
       "    <tr>\n",
       "      <th>2</th>\n",
       "      <td>0.0</td>\n",
       "      <td>(0.015427381936465452, 1.44403626121...</td>\n",
       "      <td>[22478.0, 171.0]</td>\n",
       "      <td>0.0</td>\n",
       "      <td>[0.9924499977923971, 0.0075500022076...</td>\n",
       "    </tr>\n",
       "    <tr>\n",
       "      <th>3</th>\n",
       "      <td>0.0</td>\n",
       "      <td>(0.015427381936465452, 7.22018130606...</td>\n",
       "      <td>[22478.0, 171.0]</td>\n",
       "      <td>0.0</td>\n",
       "      <td>[0.9924499977923971, 0.0075500022076...</td>\n",
       "    </tr>\n",
       "    <tr>\n",
       "      <th>4</th>\n",
       "      <td>0.0</td>\n",
       "      <td>(0.019284227420581817, 0.36100906530...</td>\n",
       "      <td>[22478.0, 171.0]</td>\n",
       "      <td>0.0</td>\n",
       "      <td>[0.9924499977923971, 0.0075500022076...</td>\n",
       "    </tr>\n",
       "  </tbody>\n",
       "</table>\n",
       "</div>"
      ],
      "text/plain": [
       "   label                                 features     rawPrediction  \\\n",
       "0    0.0  (0.0, 1.0830271959091928, 5.34479241...   [1497.0, 258.0]   \n",
       "1    0.0  (0.015427381936465452, 0.36100906530...      [16.0, 31.0]   \n",
       "2    0.0  (0.015427381936465452, 1.44403626121...  [22478.0, 171.0]   \n",
       "3    0.0  (0.015427381936465452, 7.22018130606...  [22478.0, 171.0]   \n",
       "4    0.0  (0.019284227420581817, 0.36100906530...  [22478.0, 171.0]   \n",
       "\n",
       "   prediction                              probability  \n",
       "0         0.0   [0.852991452991453, 0.147008547008547]  \n",
       "1         1.0  [0.3404255319148936, 0.6595744680851...  \n",
       "2         0.0  [0.9924499977923971, 0.0075500022076...  \n",
       "3         0.0  [0.9924499977923971, 0.0075500022076...  \n",
       "4         0.0  [0.9924499977923971, 0.0075500022076...  "
      ]
     },
     "execution_count": 72,
     "metadata": {},
     "output_type": "execute_result"
    }
   ],
   "source": [
    "# Decision Tree\n",
    "\n",
    "from pyspark.ml.classification import DecisionTreeClassifier\n",
    "#from pyspark.mllib.util import MLUtils\n",
    "\n",
    "# Train a DecisionTree model.\n",
    "dt = DecisionTreeClassifier(featuresCol = 'features', labelCol = 'label', impurity='gini', maxDepth=5, maxBins=32, seed=2018)\n",
    "model_dt = dt.fit(train)\n",
    "pred = model_dt.transform(test)\n",
    "pred.select('label', 'features',  'rawPrediction', 'prediction', 'probability').toPandas().head(5)\n"
   ]
  },
  {
   "cell_type": "code",
   "execution_count": 73,
   "id": "98770400",
   "metadata": {},
   "outputs": [
    {
     "name": "stdout",
     "output_type": "stream",
     "text": [
      "Confusion matrix, without normalization\n",
      "[[ 531  369]\n",
      " [ 313 7081]]\n"
     ]
    },
    {
     "data": {
      "image/png": "[encoded data removed]",
      "text/plain": [
       "<Figure size 432x288 with 2 Axes>"
      ]
     },
     "metadata": {},
     "output_type": "display_data"
    }
   ],
   "source": [
    "# Evaluation of DT\n",
    "y_true = pred.select(\"label\")\n",
    "y_true = y_true.toPandas()\n",
    "\n",
    "y_pred = pred.select(\"prediction\")\n",
    "y_pred = y_pred.toPandas()\n",
    "\n",
    "cnf_matrix = confusion_matrix(y_true, y_pred,labels=class_names)\n",
    "#cnf_matrix\n",
    "plt.figure()\n",
    "plot_confusion_matrix(cnf_matrix, classes=class_names,\n",
    "                      title='Confusion matrix')\n",
    "plt.show()"
   ]
  },
  {
   "cell_type": "code",
   "execution_count": 74,
   "id": "7fb2744c",
   "metadata": {},
   "outputs": [
    {
     "name": "stdout",
     "output_type": "stream",
     "text": [
      "Accuracy :  0.9177718832891246\n"
     ]
    }
   ],
   "source": [
    "# accuracy of DT\n",
    "accuracy = pred.filter(pred.label == pred.prediction).count() / float(pred.count())\n",
    "print(\"Accuracy : \",accuracy)"
   ]
  },
  {
   "cell_type": "code",
   "execution_count": 75,
   "id": "bf2651d0",
   "metadata": {},
   "outputs": [
    {
     "name": "stdout",
     "output_type": "stream",
     "text": [
      "Test Area Under ROC for Decision Tree 0.8022908213867099\n"
     ]
    }
   ],
   "source": [
    "evaluator = BinaryClassificationEvaluator()\n",
    "print('Test Area Under ROC for Decision Tree', evaluator.evaluate(pred))"
   ]
  },
  {
   "cell_type": "code",
   "execution_count": 76,
   "id": "f77e8eca",
   "metadata": {},
   "outputs": [
    {
     "data": {
      "text/html": [
       "<div>\n",
       "<style scoped>\n",
       "    .dataframe tbody tr th:only-of-type {\n",
       "        vertical-align: middle;\n",
       "    }\n",
       "\n",
       "    .dataframe tbody tr th {\n",
       "        vertical-align: top;\n",
       "    }\n",
       "\n",
       "    .dataframe thead th {\n",
       "        text-align: right;\n",
       "    }\n",
       "</style>\n",
       "<table border=\"1\" class=\"dataframe\">\n",
       "  <thead>\n",
       "    <tr style=\"text-align: right;\">\n",
       "      <th></th>\n",
       "      <th>label</th>\n",
       "      <th>features</th>\n",
       "      <th>rawPrediction</th>\n",
       "      <th>prediction</th>\n",
       "      <th>probability</th>\n",
       "    </tr>\n",
       "  </thead>\n",
       "  <tbody>\n",
       "    <tr>\n",
       "      <th>0</th>\n",
       "      <td>0.0</td>\n",
       "      <td>(0.0, 1.0830271959091928, 5.34479241...</td>\n",
       "      <td>[18.20868998811974, 1.7913100118802583]</td>\n",
       "      <td>0.0</td>\n",
       "      <td>[0.910434499405987, 0.08956550059401...</td>\n",
       "    </tr>\n",
       "    <tr>\n",
       "      <th>1</th>\n",
       "      <td>0.0</td>\n",
       "      <td>(0.015427381936465452, 0.36100906530...</td>\n",
       "      <td>[15.165698679045114, 4.834301320954884]</td>\n",
       "      <td>0.0</td>\n",
       "      <td>[0.7582849339522557, 0.2417150660477...</td>\n",
       "    </tr>\n",
       "    <tr>\n",
       "      <th>2</th>\n",
       "      <td>0.0</td>\n",
       "      <td>(0.015427381936465452, 1.44403626121...</td>\n",
       "      <td>[19.275356838746752, 0.7246431612532...</td>\n",
       "      <td>0.0</td>\n",
       "      <td>[0.9637678419373377, 0.0362321580626...</td>\n",
       "    </tr>\n",
       "    <tr>\n",
       "      <th>3</th>\n",
       "      <td>0.0</td>\n",
       "      <td>(0.015427381936465452, 7.22018130606...</td>\n",
       "      <td>[19.255767757787616, 0.7442322422123...</td>\n",
       "      <td>0.0</td>\n",
       "      <td>[0.9627883878893808, 0.0372116121106...</td>\n",
       "    </tr>\n",
       "    <tr>\n",
       "      <th>4</th>\n",
       "      <td>0.0</td>\n",
       "      <td>(0.019284227420581817, 0.36100906530...</td>\n",
       "      <td>[19.2822774772653, 0.7177225227346984]</td>\n",
       "      <td>0.0</td>\n",
       "      <td>[0.964113873863265, 0.03588612613673...</td>\n",
       "    </tr>\n",
       "  </tbody>\n",
       "</table>\n",
       "</div>"
      ],
      "text/plain": [
       "   label                                 features  \\\n",
       "0    0.0  (0.0, 1.0830271959091928, 5.34479241...   \n",
       "1    0.0  (0.015427381936465452, 0.36100906530...   \n",
       "2    0.0  (0.015427381936465452, 1.44403626121...   \n",
       "3    0.0  (0.015427381936465452, 7.22018130606...   \n",
       "4    0.0  (0.019284227420581817, 0.36100906530...   \n",
       "\n",
       "                             rawPrediction  prediction  \\\n",
       "0  [18.20868998811974, 1.7913100118802583]         0.0   \n",
       "1  [15.165698679045114, 4.834301320954884]         0.0   \n",
       "2  [19.275356838746752, 0.7246431612532...         0.0   \n",
       "3  [19.255767757787616, 0.7442322422123...         0.0   \n",
       "4   [19.2822774772653, 0.7177225227346984]         0.0   \n",
       "\n",
       "                               probability  \n",
       "0  [0.910434499405987, 0.08956550059401...  \n",
       "1  [0.7582849339522557, 0.2417150660477...  \n",
       "2  [0.9637678419373377, 0.0362321580626...  \n",
       "3  [0.9627883878893808, 0.0372116121106...  \n",
       "4  [0.964113873863265, 0.03588612613673...  "
      ]
     },
     "execution_count": 76,
     "metadata": {},
     "output_type": "execute_result"
    }
   ],
   "source": [
    "# Random Forest\n",
    "from pyspark.ml.classification import RandomForestClassifier\n",
    "\n",
    "rf = RandomForestClassifier(featuresCol = 'features', labelCol = 'label', seed=2018)\n",
    "rfModel = rf.fit(train)\n",
    "predictions_rf = rfModel.transform(test)\n",
    "\n",
    "predictions_rf.select('label', 'features',  'rawPrediction', 'prediction', 'probability').toPandas().head(5)"
   ]
  },
  {
   "cell_type": "code",
   "execution_count": 77,
   "id": "6e52332d",
   "metadata": {},
   "outputs": [
    {
     "name": "stdout",
     "output_type": "stream",
     "text": [
      "Confusion matrix, without normalization\n",
      "[[ 178  722]\n",
      " [  51 7343]]\n"
     ]
    },
    {
     "data": {
      "image/png": "[encoded data removed]",
      "text/plain": [
       "<Figure size 432x288 with 2 Axes>"
      ]
     },
     "metadata": {},
     "output_type": "display_data"
    }
   ],
   "source": [
    "# Evaluation of RF\n",
    "y_true = predictions_rf.select(\"label\")\n",
    "y_true = y_true.toPandas()\n",
    "\n",
    "y_pred = predictions_rf.select(\"prediction\")\n",
    "y_pred = y_pred.toPandas()\n",
    "\n",
    "cnf_matrix = confusion_matrix(y_true, y_pred,labels=class_names)\n",
    "#cnf_matrix\n",
    "plt.figure()\n",
    "plot_confusion_matrix(cnf_matrix, classes=class_names,\n",
    "                      title='Confusion matrix')\n",
    "plt.show()"
   ]
  },
  {
   "cell_type": "code",
   "execution_count": 78,
   "id": "f12ee76d",
   "metadata": {},
   "outputs": [
    {
     "name": "stdout",
     "output_type": "stream",
     "text": [
      "Accuracy :  0.9068000964552688\n"
     ]
    }
   ],
   "source": [
    "# accuracy of RF\n",
    "accuracy = predictions_rf.filter(predictions_rf.label == predictions_rf.prediction).count() / float(predictions_rf.count())\n",
    "print(\"Accuracy : \",accuracy)"
   ]
  },
  {
   "cell_type": "code",
   "execution_count": 79,
   "id": "10e7f626",
   "metadata": {},
   "outputs": [
    {
     "name": "stdout",
     "output_type": "stream",
     "text": [
      "Test Area Under ROC for Random Forest 0.9257834430318886\n"
     ]
    }
   ],
   "source": [
    "evaluator = BinaryClassificationEvaluator()\n",
    "print('Test Area Under ROC for Random Forest', evaluator.evaluate(predictions_rf))"
   ]
  },
  {
   "cell_type": "code",
   "execution_count": 80,
   "id": "09541a47",
   "metadata": {},
   "outputs": [
    {
     "data": {
      "text/html": [
       "<div>\n",
       "<style scoped>\n",
       "    .dataframe tbody tr th:only-of-type {\n",
       "        vertical-align: middle;\n",
       "    }\n",
       "\n",
       "    .dataframe tbody tr th {\n",
       "        vertical-align: top;\n",
       "    }\n",
       "\n",
       "    .dataframe thead th {\n",
       "        text-align: right;\n",
       "    }\n",
       "</style>\n",
       "<table border=\"1\" class=\"dataframe\">\n",
       "  <thead>\n",
       "    <tr style=\"text-align: right;\">\n",
       "      <th></th>\n",
       "      <th>label</th>\n",
       "      <th>features</th>\n",
       "      <th>rawPrediction</th>\n",
       "      <th>prediction</th>\n",
       "      <th>probability</th>\n",
       "    </tr>\n",
       "  </thead>\n",
       "  <tbody>\n",
       "    <tr>\n",
       "      <th>0</th>\n",
       "      <td>0.0</td>\n",
       "      <td>(0.0, 1.0830271959091928, 5.34479241...</td>\n",
       "      <td>[1.3325846364134852, -1.332584636413...</td>\n",
       "      <td>0.0</td>\n",
       "      <td>[0.9349398076498788, 0.0650601923501...</td>\n",
       "    </tr>\n",
       "    <tr>\n",
       "      <th>1</th>\n",
       "      <td>0.0</td>\n",
       "      <td>(0.015427381936465452, 0.36100906530...</td>\n",
       "      <td>[0.6667920428735472, -0.666792042873...</td>\n",
       "      <td>0.0</td>\n",
       "      <td>[0.7914328666183628, 0.2085671333816...</td>\n",
       "    </tr>\n",
       "    <tr>\n",
       "      <th>2</th>\n",
       "      <td>0.0</td>\n",
       "      <td>(0.015427381936465452, 1.44403626121...</td>\n",
       "      <td>[1.5298910074818624, -1.529891007481...</td>\n",
       "      <td>0.0</td>\n",
       "      <td>[0.9552029702402346, 0.0447970297597...</td>\n",
       "    </tr>\n",
       "    <tr>\n",
       "      <th>3</th>\n",
       "      <td>0.0</td>\n",
       "      <td>(0.015427381936465452, 7.22018130606...</td>\n",
       "      <td>[1.5298910074818624, -1.529891007481...</td>\n",
       "      <td>0.0</td>\n",
       "      <td>[0.9552029702402346, 0.0447970297597...</td>\n",
       "    </tr>\n",
       "    <tr>\n",
       "      <th>4</th>\n",
       "      <td>0.0</td>\n",
       "      <td>(0.019284227420581817, 0.36100906530...</td>\n",
       "      <td>[1.5298910074818624, -1.529891007481...</td>\n",
       "      <td>0.0</td>\n",
       "      <td>[0.9552029702402346, 0.0447970297597...</td>\n",
       "    </tr>\n",
       "  </tbody>\n",
       "</table>\n",
       "</div>"
      ],
      "text/plain": [
       "   label                                 features  \\\n",
       "0    0.0  (0.0, 1.0830271959091928, 5.34479241...   \n",
       "1    0.0  (0.015427381936465452, 0.36100906530...   \n",
       "2    0.0  (0.015427381936465452, 1.44403626121...   \n",
       "3    0.0  (0.015427381936465452, 7.22018130606...   \n",
       "4    0.0  (0.019284227420581817, 0.36100906530...   \n",
       "\n",
       "                             rawPrediction  prediction  \\\n",
       "0  [1.3325846364134852, -1.332584636413...         0.0   \n",
       "1  [0.6667920428735472, -0.666792042873...         0.0   \n",
       "2  [1.5298910074818624, -1.529891007481...         0.0   \n",
       "3  [1.5298910074818624, -1.529891007481...         0.0   \n",
       "4  [1.5298910074818624, -1.529891007481...         0.0   \n",
       "\n",
       "                               probability  \n",
       "0  [0.9349398076498788, 0.0650601923501...  \n",
       "1  [0.7914328666183628, 0.2085671333816...  \n",
       "2  [0.9552029702402346, 0.0447970297597...  \n",
       "3  [0.9552029702402346, 0.0447970297597...  \n",
       "4  [0.9552029702402346, 0.0447970297597...  "
      ]
     },
     "execution_count": 80,
     "metadata": {},
     "output_type": "execute_result"
    }
   ],
   "source": [
    "# Gradient boosting tree\n",
    "from pyspark.ml.classification import GBTClassifier\n",
    "from pyspark.ml.evaluation import MulticlassClassificationEvaluator\n",
    "gb = GBTClassifier(labelCol = 'label', featuresCol = 'features', seed=2018)\n",
    "gbModel = gb.fit(train)\n",
    "predictions_gb = gbModel.transform(test)\n",
    "\n",
    "predictions_gb.select('label', 'features',  'rawPrediction', 'prediction', 'probability').toPandas().head(5)"
   ]
  },
  {
   "cell_type": "code",
   "execution_count": 81,
   "id": "709b8156",
   "metadata": {},
   "outputs": [
    {
     "name": "stdout",
     "output_type": "stream",
     "text": [
      "Confusion matrix, without normalization\n",
      "[[ 495  405]\n",
      " [ 269 7125]]\n"
     ]
    },
    {
     "data": {
      "image/png": "[encoded data removed]",
      "text/plain": [
       "<Figure size 432x288 with 2 Axes>"
      ]
     },
     "metadata": {},
     "output_type": "display_data"
    }
   ],
   "source": [
    "# Evaluation of GB\n",
    "y_true = predictions_gb.select(\"label\")\n",
    "y_true = y_true.toPandas()\n",
    "\n",
    "y_pred = predictions_gb.select(\"prediction\")\n",
    "y_pred = y_pred.toPandas()\n",
    "\n",
    "cnf_matrix = confusion_matrix(y_true, y_pred,labels=class_names)\n",
    "#cnf_matrix\n",
    "plt.figure()\n",
    "plot_confusion_matrix(cnf_matrix, classes=class_names,\n",
    "                      title='Confusion matrix')\n",
    "plt.show()"
   ]
  },
  {
   "cell_type": "code",
   "execution_count": 82,
   "id": "4262e1d6",
   "metadata": {},
   "outputs": [
    {
     "name": "stdout",
     "output_type": "stream",
     "text": [
      "Accuracy :  0.9187364359778153\n"
     ]
    }
   ],
   "source": [
    "accuracy = predictions_gb.filter(predictions_gb.label == predictions_gb.prediction).count() / float(predictions_gb.count())\n",
    "print(\"Accuracy : \",accuracy)"
   ]
  },
  {
   "cell_type": "code",
   "execution_count": 83,
   "id": "4f8efba1",
   "metadata": {},
   "outputs": [
    {
     "name": "stdout",
     "output_type": "stream",
     "text": [
      "Test Area Under ROC for GB 0.9462636371833021\n"
     ]
    }
   ],
   "source": [
    "evaluator = BinaryClassificationEvaluator()\n",
    "print('Test Area Under ROC for GB', evaluator.evaluate(predictions_gb))"
   ]
  },
  {
   "cell_type": "markdown",
   "id": "15851745",
   "metadata": {},
   "source": [
    "Therefore, gradient boosting gives us the best result in terms of Test ROC and other metrics"
   ]
  },
  {
   "cell_type": "markdown",
   "id": "1bf89579",
   "metadata": {},
   "source": [
    "### Kmeans Clustering"
   ]
  },
  {
   "cell_type": "code",
   "execution_count": 84,
   "id": "c4d74f12",
   "metadata": {},
   "outputs": [
    {
     "name": "stdout",
     "output_type": "stream",
     "text": [
      "Silhouette Score: 0.2046549547050349\n",
      "Silhouette Score: 0.0905276570672348\n",
      "Silhouette Score: 0.10367231175094002\n",
      "Silhouette Score: 0.10381577576908733\n",
      "Silhouette Score: 0.12933368210271304\n",
      "Silhouette Score: 0.09663649746506149\n",
      "Silhouette Score: 0.10894080238143342\n",
      "Silhouette Score: 0.12349270265990947\n"
     ]
    }
   ],
   "source": [
    "from pyspark.ml.clustering import KMeans\n",
    "from pyspark.ml.evaluation import ClusteringEvaluator\n",
    "silhouette_score=[]\n",
    "evaluator = ClusteringEvaluator(predictionCol='prediction', featuresCol='features', \\\n",
    "                                metricName='silhouette', distanceMeasure='squaredEuclidean')\n",
    "for i in range(2,10):\n",
    "    \n",
    "    KMeans_algo=KMeans(featuresCol='features', k=i)\n",
    "    \n",
    "    KMeans_fit=KMeans_algo.fit(scaler_df)\n",
    "    \n",
    "    output=KMeans_fit.transform(scaler_df)\n",
    "    \n",
    "    \n",
    "    \n",
    "    score=evaluator.evaluate(output)\n",
    "    \n",
    "    silhouette_score.append(score)\n",
    "    \n",
    "    print(\"Silhouette Score:\",score)"
   ]
  },
  {
   "cell_type": "code",
   "execution_count": 85,
   "id": "91554c56",
   "metadata": {},
   "outputs": [
    {
     "data": {
      "text/plain": [
       "Text(0, 0.5, 'cost')"
      ]
     },
     "execution_count": 85,
     "metadata": {},
     "output_type": "execute_result"
    },
    {
     "data": {
      "image/png": "[encoded data removed]",
      "text/plain": [
       "<Figure size 576x432 with 1 Axes>"
      ]
     },
     "metadata": {},
     "output_type": "display_data"
    }
   ],
   "source": [
    "#Visualizing the silhouette scores in a plot\n",
    "import matplotlib.pyplot as plt\n",
    "fig, ax = plt.subplots(1,1, figsize =(8,6))\n",
    "ax.plot(range(2,10),silhouette_score)\n",
    "ax.set_xlabel('k')\n",
    "ax.set_ylabel('cost')"
   ]
  },
  {
   "cell_type": "code",
   "execution_count": 86,
   "id": "3c3fed60",
   "metadata": {},
   "outputs": [
    {
     "name": "stdout",
     "output_type": "stream",
     "text": [
      "Silhouette with squared euclidean distance = 0.2046549547050349\n",
      "Cluster Centers: \n",
      "[ 9.77480545e-01  1.01966713e+00  5.34479242e+00  0.00000000e+00\n",
      "  7.31344677e-01  1.62152093e+02 -8.51155871e+00  2.78833636e+00\n",
      "  7.21626752e+01  5.68379448e-01  5.65384596e-01  4.75725604e-01\n",
      "  3.34401888e-01  2.76482756e-01  1.45577031e-01  2.02899257e-01\n",
      "  1.92690307e-01  1.88828845e-01  1.50580632e-01  4.88806530e-02\n",
      "  1.30127419e+00  5.47848068e-01  3.68105913e-01  6.26829930e-01\n",
      "  5.32672047e-01  4.23205365e-01  3.95120138e-01  3.54694774e-01\n",
      "  2.55848030e-01  2.08918964e-01  1.81291210e+00  6.47284434e-01\n",
      "  1.00647472e+00  9.50043400e-01  2.16544258e+00  4.21927844e-01\n",
      "  1.02407706e+00  6.10467523e-01  6.53885724e-01  5.37650843e-01\n",
      "  4.83892519e-01  3.57437460e-01  0.00000000e+00  1.84244493e-02\n",
      "  0.00000000e+00  0.00000000e+00  5.07970403e-01  4.90937002e-01\n",
      "  5.17083421e-01  5.09925845e-01  2.91209121e+00  0.00000000e+00\n",
      "  8.85076869e-01  7.16773693e-01  4.89905512e-01]\n"
     ]
    },
    {
     "data": {
      "text/html": [
       "<div>\n",
       "<style scoped>\n",
       "    .dataframe tbody tr th:only-of-type {\n",
       "        vertical-align: middle;\n",
       "    }\n",
       "\n",
       "    .dataframe tbody tr th {\n",
       "        vertical-align: top;\n",
       "    }\n",
       "\n",
       "    .dataframe thead th {\n",
       "        text-align: right;\n",
       "    }\n",
       "</style>\n",
       "<table border=\"1\" class=\"dataframe\">\n",
       "  <thead>\n",
       "    <tr style=\"text-align: right;\">\n",
       "      <th></th>\n",
       "      <th>duration</th>\n",
       "      <th>campaign</th>\n",
       "      <th>pdays</th>\n",
       "      <th>previous</th>\n",
       "      <th>EmpVarRate</th>\n",
       "      <th>ConsPriceIndx</th>\n",
       "      <th>...</th>\n",
       "      <th>poutcomeEncoded</th>\n",
       "      <th>Age_udfEncoded</th>\n",
       "      <th>vectorized_features</th>\n",
       "      <th>label</th>\n",
       "      <th>features</th>\n",
       "      <th>prediction</th>\n",
       "    </tr>\n",
       "  </thead>\n",
       "  <tbody>\n",
       "    <tr>\n",
       "      <th>0</th>\n",
       "      <td>261</td>\n",
       "      <td>1</td>\n",
       "      <td>999</td>\n",
       "      <td>0</td>\n",
       "      <td>1.1</td>\n",
       "      <td>93.994</td>\n",
       "      <td>...</td>\n",
       "      <td>(1.0, 0.0)</td>\n",
       "      <td>(0.0, 0.0, 1.0)</td>\n",
       "      <td>(261.0, 1.0, 999.0, 0.0, 1.1, 93.994...</td>\n",
       "      <td>0.0</td>\n",
       "      <td>(1.0066366713543708, 0.3610090653030...</td>\n",
       "      <td>1</td>\n",
       "    </tr>\n",
       "    <tr>\n",
       "      <th>1</th>\n",
       "      <td>149</td>\n",
       "      <td>1</td>\n",
       "      <td>999</td>\n",
       "      <td>0</td>\n",
       "      <td>1.1</td>\n",
       "      <td>93.994</td>\n",
       "      <td>...</td>\n",
       "      <td>(1.0, 0.0)</td>\n",
       "      <td>(0.0, 0.0, 1.0)</td>\n",
       "      <td>(149.0, 1.0, 999.0, 0.0, 1.1, 93.994...</td>\n",
       "      <td>0.0</td>\n",
       "      <td>(0.5746699771333381, 0.3610090653030...</td>\n",
       "      <td>1</td>\n",
       "    </tr>\n",
       "    <tr>\n",
       "      <th>2</th>\n",
       "      <td>226</td>\n",
       "      <td>1</td>\n",
       "      <td>999</td>\n",
       "      <td>0</td>\n",
       "      <td>1.1</td>\n",
       "      <td>93.994</td>\n",
       "      <td>...</td>\n",
       "      <td>(1.0, 0.0)</td>\n",
       "      <td>(1.0, 0.0, 0.0)</td>\n",
       "      <td>(226.0, 1.0, 999.0, 0.0, 1.1, 93.994...</td>\n",
       "      <td>0.0</td>\n",
       "      <td>(0.8716470794102981, 0.3610090653030...</td>\n",
       "      <td>1</td>\n",
       "    </tr>\n",
       "    <tr>\n",
       "      <th>3</th>\n",
       "      <td>151</td>\n",
       "      <td>1</td>\n",
       "      <td>999</td>\n",
       "      <td>0</td>\n",
       "      <td>1.1</td>\n",
       "      <td>93.994</td>\n",
       "      <td>...</td>\n",
       "      <td>(1.0, 0.0)</td>\n",
       "      <td>(1.0, 0.0, 0.0)</td>\n",
       "      <td>(151.0, 1.0, 999.0, 0.0, 1.1, 93.994...</td>\n",
       "      <td>0.0</td>\n",
       "      <td>(0.5823836681015708, 0.3610090653030...</td>\n",
       "      <td>1</td>\n",
       "    </tr>\n",
       "    <tr>\n",
       "      <th>4</th>\n",
       "      <td>307</td>\n",
       "      <td>1</td>\n",
       "      <td>999</td>\n",
       "      <td>0</td>\n",
       "      <td>1.1</td>\n",
       "      <td>93.994</td>\n",
       "      <td>...</td>\n",
       "      <td>(1.0, 0.0)</td>\n",
       "      <td>(0.0, 0.0, 1.0)</td>\n",
       "      <td>(307.0, 1.0, 999.0, 0.0, 1.1, 93.994...</td>\n",
       "      <td>0.0</td>\n",
       "      <td>(1.1840515636237234, 0.3610090653030...</td>\n",
       "      <td>1</td>\n",
       "    </tr>\n",
       "  </tbody>\n",
       "</table>\n",
       "<p>5 rows × 25 columns</p>\n",
       "</div>"
      ],
      "text/plain": [
       "   duration  campaign  pdays  previous  EmpVarRate  ConsPriceIndx  ...  \\\n",
       "0       261         1    999         0         1.1         93.994  ...   \n",
       "1       149         1    999         0         1.1         93.994  ...   \n",
       "2       226         1    999         0         1.1         93.994  ...   \n",
       "3       151         1    999         0         1.1         93.994  ...   \n",
       "4       307         1    999         0         1.1         93.994  ...   \n",
       "\n",
       "   poutcomeEncoded   Age_udfEncoded                      vectorized_features  \\\n",
       "0       (1.0, 0.0)  (0.0, 0.0, 1.0)  (261.0, 1.0, 999.0, 0.0, 1.1, 93.994...   \n",
       "1       (1.0, 0.0)  (0.0, 0.0, 1.0)  (149.0, 1.0, 999.0, 0.0, 1.1, 93.994...   \n",
       "2       (1.0, 0.0)  (1.0, 0.0, 0.0)  (226.0, 1.0, 999.0, 0.0, 1.1, 93.994...   \n",
       "3       (1.0, 0.0)  (1.0, 0.0, 0.0)  (151.0, 1.0, 999.0, 0.0, 1.1, 93.994...   \n",
       "4       (1.0, 0.0)  (0.0, 0.0, 1.0)  (307.0, 1.0, 999.0, 0.0, 1.1, 93.994...   \n",
       "\n",
       "  label                                 features prediction  \n",
       "0   0.0  (1.0066366713543708, 0.3610090653030...          1  \n",
       "1   0.0  (0.5746699771333381, 0.3610090653030...          1  \n",
       "2   0.0  (0.8716470794102981, 0.3610090653030...          1  \n",
       "3   0.0  (0.5823836681015708, 0.3610090653030...          1  \n",
       "4   0.0  (1.1840515636237234, 0.3610090653030...          1  \n",
       "\n",
       "[5 rows x 25 columns]"
      ]
     },
     "execution_count": 86,
     "metadata": {},
     "output_type": "execute_result"
    }
   ],
   "source": [
    "### Using 2 clusters\n",
    "\n",
    "kmeans =KMeans(featuresCol='features', k=2)\n",
    "model = kmeans.fit(scaler_df)\n",
    "# Make predictions\n",
    "predictions_Kmeans2 = model.transform(scaler_df)\n",
    "# Evaluate clustering by computing Silhouette score\n",
    "evaluator = ClusteringEvaluator()\n",
    "silhouette = evaluator.evaluate(predictions_Kmeans2)\n",
    "print(\"Silhouette with squared euclidean distance = \" + str(silhouette))\n",
    "\n",
    "# Shows the result.\n",
    "print(\"Cluster Centers: \")\n",
    "ctr=[]\n",
    "centers = model.clusterCenters()\n",
    "for center in centers:\n",
    "    ctr.append(center)\n",
    "print(center)\n",
    "predictions_Kmeans2.toPandas().head(5)"
   ]
  },
  {
   "cell_type": "code",
   "execution_count": null,
   "id": "bc3d2535",
   "metadata": {},
   "outputs": [],
   "source": []
  }
 ],
 "metadata": {
  "kernelspec": {
   "display_name": "Python 3.10.1 64-bit",
   "language": "python",
   "name": "python3"
  },
  "language_info": {
   "codemirror_mode": {
    "name": "ipython",
    "version": 3
   },
   "file_extension": ".py",
   "mimetype": "text/x-python",
   "name": "python",
   "nbconvert_exporter": "python",
   "pygments_lexer": "ipython3",
   "version": "3.10.1"
  },
  "vscode": {
   "interpreter": {
    "hash": "5722daad9755055b013a651651e76bfefcd0039befef69efb03fa00fbea6a530"
   }
  }
 },
 "nbformat": 4,
 "nbformat_minor": 5
}
